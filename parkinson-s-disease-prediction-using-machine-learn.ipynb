{
 "cells": [
  {
   "cell_type": "code",
   "execution_count": 1,
   "id": "ee2fd363",
   "metadata": {
    "_cell_guid": "b1076dfc-b9ad-4769-8c92-a6c4dae69d19",
    "_uuid": "8f2839f25d086af736a60e9eeb907d3b93b6e0e5",
    "execution": {
     "iopub.execute_input": "2024-04-04T21:06:21.972992Z",
     "iopub.status.busy": "2024-04-04T21:06:21.972516Z",
     "iopub.status.idle": "2024-04-04T21:06:25.513181Z",
     "shell.execute_reply": "2024-04-04T21:06:25.511220Z"
    },
    "papermill": {
     "duration": 3.567401,
     "end_time": "2024-04-04T21:06:25.518828",
     "exception": false,
     "start_time": "2024-04-04T21:06:21.951427",
     "status": "completed"
    },
    "tags": []
   },
   "outputs": [],
   "source": [
    "import pandas as pd # for data manipulation\n",
    "import numpy as np # for numerical analysis\n",
    "\n",
    "# For plottling graphs\n",
    "import seaborn as sns \n",
    "import matplotlib.pyplot as plt\n",
    "\n",
    "# for saving tools\n",
    "import joblib"
   ]
  },
  {
   "cell_type": "code",
   "execution_count": 2,
   "id": "0c8b2c02",
   "metadata": {
    "execution": {
     "iopub.execute_input": "2024-04-04T21:06:25.581148Z",
     "iopub.status.busy": "2024-04-04T21:06:25.576686Z",
     "iopub.status.idle": "2024-04-04T21:06:25.593046Z",
     "shell.execute_reply": "2024-04-04T21:06:25.590949Z"
    },
    "papermill": {
     "duration": 0.055817,
     "end_time": "2024-04-04T21:06:25.599907",
     "exception": false,
     "start_time": "2024-04-04T21:06:25.544090",
     "status": "completed"
    },
    "tags": []
   },
   "outputs": [],
   "source": [
    "# Setting Plotting Settings\n",
    "%matplotlib inline\n",
    "sns.set_style(\"darkgrid\")"
   ]
  },
  {
   "cell_type": "code",
   "execution_count": 3,
   "id": "9b04161d",
   "metadata": {
    "execution": {
     "iopub.execute_input": "2024-04-04T21:06:25.651704Z",
     "iopub.status.busy": "2024-04-04T21:06:25.649881Z",
     "iopub.status.idle": "2024-04-04T21:06:25.683341Z",
     "shell.execute_reply": "2024-04-04T21:06:25.681903Z"
    },
    "papermill": {
     "duration": 0.060275,
     "end_time": "2024-04-04T21:06:25.686952",
     "exception": false,
     "start_time": "2024-04-04T21:06:25.626677",
     "status": "completed"
    },
    "tags": []
   },
   "outputs": [],
   "source": [
    "parkinsons = pd.read_csv(\"/kaggle/input/parkinsons/parkinsons.csv\")"
   ]
  },
  {
   "cell_type": "code",
   "execution_count": 4,
   "id": "8f55a6c6",
   "metadata": {
    "execution": {
     "iopub.execute_input": "2024-04-04T21:06:25.732967Z",
     "iopub.status.busy": "2024-04-04T21:06:25.731936Z",
     "iopub.status.idle": "2024-04-04T21:06:25.828087Z",
     "shell.execute_reply": "2024-04-04T21:06:25.826360Z"
    },
    "papermill": {
     "duration": 0.127952,
     "end_time": "2024-04-04T21:06:25.833623",
     "exception": false,
     "start_time": "2024-04-04T21:06:25.705671",
     "status": "completed"
    },
    "tags": []
   },
   "outputs": [
    {
     "data": {
      "text/html": [
       "<div>\n",
       "<style scoped>\n",
       "    .dataframe tbody tr th:only-of-type {\n",
       "        vertical-align: middle;\n",
       "    }\n",
       "\n",
       "    .dataframe tbody tr th {\n",
       "        vertical-align: top;\n",
       "    }\n",
       "\n",
       "    .dataframe thead th {\n",
       "        text-align: right;\n",
       "    }\n",
       "</style>\n",
       "<table border=\"1\" class=\"dataframe\">\n",
       "  <thead>\n",
       "    <tr style=\"text-align: right;\">\n",
       "      <th></th>\n",
       "      <th>name</th>\n",
       "      <th>MDVP:Fo(Hz)</th>\n",
       "      <th>MDVP:Fhi(Hz)</th>\n",
       "      <th>MDVP:Flo(Hz)</th>\n",
       "      <th>MDVP:Jitter(%)</th>\n",
       "      <th>MDVP:Jitter(Abs)</th>\n",
       "      <th>MDVP:RAP</th>\n",
       "      <th>MDVP:PPQ</th>\n",
       "      <th>Jitter:DDP</th>\n",
       "      <th>MDVP:Shimmer</th>\n",
       "      <th>...</th>\n",
       "      <th>Shimmer:DDA</th>\n",
       "      <th>NHR</th>\n",
       "      <th>HNR</th>\n",
       "      <th>status</th>\n",
       "      <th>RPDE</th>\n",
       "      <th>DFA</th>\n",
       "      <th>spread1</th>\n",
       "      <th>spread2</th>\n",
       "      <th>D2</th>\n",
       "      <th>PPE</th>\n",
       "    </tr>\n",
       "  </thead>\n",
       "  <tbody>\n",
       "    <tr>\n",
       "      <th>0</th>\n",
       "      <td>phon_R01_S01_1</td>\n",
       "      <td>119.992</td>\n",
       "      <td>157.302</td>\n",
       "      <td>74.997</td>\n",
       "      <td>0.00784</td>\n",
       "      <td>0.00007</td>\n",
       "      <td>0.00370</td>\n",
       "      <td>0.00554</td>\n",
       "      <td>0.01109</td>\n",
       "      <td>0.04374</td>\n",
       "      <td>...</td>\n",
       "      <td>0.06545</td>\n",
       "      <td>0.02211</td>\n",
       "      <td>21.033</td>\n",
       "      <td>1</td>\n",
       "      <td>0.414783</td>\n",
       "      <td>0.815285</td>\n",
       "      <td>-4.813031</td>\n",
       "      <td>0.266482</td>\n",
       "      <td>2.301442</td>\n",
       "      <td>0.284654</td>\n",
       "    </tr>\n",
       "    <tr>\n",
       "      <th>1</th>\n",
       "      <td>phon_R01_S01_2</td>\n",
       "      <td>122.400</td>\n",
       "      <td>148.650</td>\n",
       "      <td>113.819</td>\n",
       "      <td>0.00968</td>\n",
       "      <td>0.00008</td>\n",
       "      <td>0.00465</td>\n",
       "      <td>0.00696</td>\n",
       "      <td>0.01394</td>\n",
       "      <td>0.06134</td>\n",
       "      <td>...</td>\n",
       "      <td>0.09403</td>\n",
       "      <td>0.01929</td>\n",
       "      <td>19.085</td>\n",
       "      <td>1</td>\n",
       "      <td>0.458359</td>\n",
       "      <td>0.819521</td>\n",
       "      <td>-4.075192</td>\n",
       "      <td>0.335590</td>\n",
       "      <td>2.486855</td>\n",
       "      <td>0.368674</td>\n",
       "    </tr>\n",
       "    <tr>\n",
       "      <th>2</th>\n",
       "      <td>phon_R01_S01_3</td>\n",
       "      <td>116.682</td>\n",
       "      <td>131.111</td>\n",
       "      <td>111.555</td>\n",
       "      <td>0.01050</td>\n",
       "      <td>0.00009</td>\n",
       "      <td>0.00544</td>\n",
       "      <td>0.00781</td>\n",
       "      <td>0.01633</td>\n",
       "      <td>0.05233</td>\n",
       "      <td>...</td>\n",
       "      <td>0.08270</td>\n",
       "      <td>0.01309</td>\n",
       "      <td>20.651</td>\n",
       "      <td>1</td>\n",
       "      <td>0.429895</td>\n",
       "      <td>0.825288</td>\n",
       "      <td>-4.443179</td>\n",
       "      <td>0.311173</td>\n",
       "      <td>2.342259</td>\n",
       "      <td>0.332634</td>\n",
       "    </tr>\n",
       "    <tr>\n",
       "      <th>3</th>\n",
       "      <td>phon_R01_S01_4</td>\n",
       "      <td>116.676</td>\n",
       "      <td>137.871</td>\n",
       "      <td>111.366</td>\n",
       "      <td>0.00997</td>\n",
       "      <td>0.00009</td>\n",
       "      <td>0.00502</td>\n",
       "      <td>0.00698</td>\n",
       "      <td>0.01505</td>\n",
       "      <td>0.05492</td>\n",
       "      <td>...</td>\n",
       "      <td>0.08771</td>\n",
       "      <td>0.01353</td>\n",
       "      <td>20.644</td>\n",
       "      <td>1</td>\n",
       "      <td>0.434969</td>\n",
       "      <td>0.819235</td>\n",
       "      <td>-4.117501</td>\n",
       "      <td>0.334147</td>\n",
       "      <td>2.405554</td>\n",
       "      <td>0.368975</td>\n",
       "    </tr>\n",
       "    <tr>\n",
       "      <th>4</th>\n",
       "      <td>phon_R01_S01_5</td>\n",
       "      <td>116.014</td>\n",
       "      <td>141.781</td>\n",
       "      <td>110.655</td>\n",
       "      <td>0.01284</td>\n",
       "      <td>0.00011</td>\n",
       "      <td>0.00655</td>\n",
       "      <td>0.00908</td>\n",
       "      <td>0.01966</td>\n",
       "      <td>0.06425</td>\n",
       "      <td>...</td>\n",
       "      <td>0.10470</td>\n",
       "      <td>0.01767</td>\n",
       "      <td>19.649</td>\n",
       "      <td>1</td>\n",
       "      <td>0.417356</td>\n",
       "      <td>0.823484</td>\n",
       "      <td>-3.747787</td>\n",
       "      <td>0.234513</td>\n",
       "      <td>2.332180</td>\n",
       "      <td>0.410335</td>\n",
       "    </tr>\n",
       "  </tbody>\n",
       "</table>\n",
       "<p>5 rows × 24 columns</p>\n",
       "</div>"
      ],
      "text/plain": [
       "             name  MDVP:Fo(Hz)  MDVP:Fhi(Hz)  MDVP:Flo(Hz)  MDVP:Jitter(%)  \\\n",
       "0  phon_R01_S01_1      119.992       157.302        74.997         0.00784   \n",
       "1  phon_R01_S01_2      122.400       148.650       113.819         0.00968   \n",
       "2  phon_R01_S01_3      116.682       131.111       111.555         0.01050   \n",
       "3  phon_R01_S01_4      116.676       137.871       111.366         0.00997   \n",
       "4  phon_R01_S01_5      116.014       141.781       110.655         0.01284   \n",
       "\n",
       "   MDVP:Jitter(Abs)  MDVP:RAP  MDVP:PPQ  Jitter:DDP  MDVP:Shimmer  ...  \\\n",
       "0           0.00007   0.00370   0.00554     0.01109       0.04374  ...   \n",
       "1           0.00008   0.00465   0.00696     0.01394       0.06134  ...   \n",
       "2           0.00009   0.00544   0.00781     0.01633       0.05233  ...   \n",
       "3           0.00009   0.00502   0.00698     0.01505       0.05492  ...   \n",
       "4           0.00011   0.00655   0.00908     0.01966       0.06425  ...   \n",
       "\n",
       "   Shimmer:DDA      NHR     HNR  status      RPDE       DFA   spread1  \\\n",
       "0      0.06545  0.02211  21.033       1  0.414783  0.815285 -4.813031   \n",
       "1      0.09403  0.01929  19.085       1  0.458359  0.819521 -4.075192   \n",
       "2      0.08270  0.01309  20.651       1  0.429895  0.825288 -4.443179   \n",
       "3      0.08771  0.01353  20.644       1  0.434969  0.819235 -4.117501   \n",
       "4      0.10470  0.01767  19.649       1  0.417356  0.823484 -3.747787   \n",
       "\n",
       "    spread2        D2       PPE  \n",
       "0  0.266482  2.301442  0.284654  \n",
       "1  0.335590  2.486855  0.368674  \n",
       "2  0.311173  2.342259  0.332634  \n",
       "3  0.334147  2.405554  0.368975  \n",
       "4  0.234513  2.332180  0.410335  \n",
       "\n",
       "[5 rows x 24 columns]"
      ]
     },
     "execution_count": 4,
     "metadata": {},
     "output_type": "execute_result"
    }
   ],
   "source": [
    "# Checking First 5 rows of data\n",
    "parkinsons.head()"
   ]
  },
  {
   "cell_type": "code",
   "execution_count": 5,
   "id": "67092fa7",
   "metadata": {
    "execution": {
     "iopub.execute_input": "2024-04-04T21:06:25.904773Z",
     "iopub.status.busy": "2024-04-04T21:06:25.903342Z",
     "iopub.status.idle": "2024-04-04T21:06:25.941535Z",
     "shell.execute_reply": "2024-04-04T21:06:25.939705Z"
    },
    "papermill": {
     "duration": 0.081979,
     "end_time": "2024-04-04T21:06:25.947051",
     "exception": false,
     "start_time": "2024-04-04T21:06:25.865072",
     "status": "completed"
    },
    "tags": []
   },
   "outputs": [
    {
     "name": "stdout",
     "output_type": "stream",
     "text": [
      "<class 'pandas.core.frame.DataFrame'>\n",
      "RangeIndex: 195 entries, 0 to 194\n",
      "Data columns (total 24 columns):\n",
      " #   Column            Non-Null Count  Dtype  \n",
      "---  ------            --------------  -----  \n",
      " 0   name              195 non-null    object \n",
      " 1   MDVP:Fo(Hz)       195 non-null    float64\n",
      " 2   MDVP:Fhi(Hz)      195 non-null    float64\n",
      " 3   MDVP:Flo(Hz)      195 non-null    float64\n",
      " 4   MDVP:Jitter(%)    195 non-null    float64\n",
      " 5   MDVP:Jitter(Abs)  195 non-null    float64\n",
      " 6   MDVP:RAP          195 non-null    float64\n",
      " 7   MDVP:PPQ          195 non-null    float64\n",
      " 8   Jitter:DDP        195 non-null    float64\n",
      " 9   MDVP:Shimmer      195 non-null    float64\n",
      " 10  MDVP:Shimmer(dB)  195 non-null    float64\n",
      " 11  Shimmer:APQ3      195 non-null    float64\n",
      " 12  Shimmer:APQ5      195 non-null    float64\n",
      " 13  MDVP:APQ          195 non-null    float64\n",
      " 14  Shimmer:DDA       195 non-null    float64\n",
      " 15  NHR               195 non-null    float64\n",
      " 16  HNR               195 non-null    float64\n",
      " 17  status            195 non-null    int64  \n",
      " 18  RPDE              195 non-null    float64\n",
      " 19  DFA               195 non-null    float64\n",
      " 20  spread1           195 non-null    float64\n",
      " 21  spread2           195 non-null    float64\n",
      " 22  D2                195 non-null    float64\n",
      " 23  PPE               195 non-null    float64\n",
      "dtypes: float64(22), int64(1), object(1)\n",
      "memory usage: 36.7+ KB\n"
     ]
    }
   ],
   "source": [
    "parkinsons.info()"
   ]
  },
  {
   "cell_type": "code",
   "execution_count": 6,
   "id": "0277d278",
   "metadata": {
    "execution": {
     "iopub.execute_input": "2024-04-04T21:06:25.990570Z",
     "iopub.status.busy": "2024-04-04T21:06:25.989304Z",
     "iopub.status.idle": "2024-04-04T21:06:26.000892Z",
     "shell.execute_reply": "2024-04-04T21:06:25.999657Z"
    },
    "papermill": {
     "duration": 0.03566,
     "end_time": "2024-04-04T21:06:26.004503",
     "exception": false,
     "start_time": "2024-04-04T21:06:25.968843",
     "status": "completed"
    },
    "tags": []
   },
   "outputs": [
    {
     "data": {
      "text/plain": [
       "Index(['name', 'MDVP:Fo(Hz)', 'MDVP:Fhi(Hz)', 'MDVP:Flo(Hz)', 'MDVP:Jitter(%)',\n",
       "       'MDVP:Jitter(Abs)', 'MDVP:RAP', 'MDVP:PPQ', 'Jitter:DDP',\n",
       "       'MDVP:Shimmer', 'MDVP:Shimmer(dB)', 'Shimmer:APQ3', 'Shimmer:APQ5',\n",
       "       'MDVP:APQ', 'Shimmer:DDA', 'NHR', 'HNR', 'status', 'RPDE', 'DFA',\n",
       "       'spread1', 'spread2', 'D2', 'PPE'],\n",
       "      dtype='object')"
      ]
     },
     "execution_count": 6,
     "metadata": {},
     "output_type": "execute_result"
    }
   ],
   "source": [
    "parkinsons.columns"
   ]
  },
  {
   "cell_type": "code",
   "execution_count": 7,
   "id": "02e37c8c",
   "metadata": {
    "execution": {
     "iopub.execute_input": "2024-04-04T21:06:26.047897Z",
     "iopub.status.busy": "2024-04-04T21:06:26.046750Z",
     "iopub.status.idle": "2024-04-04T21:06:26.061715Z",
     "shell.execute_reply": "2024-04-04T21:06:26.059878Z"
    },
    "papermill": {
     "duration": 0.048005,
     "end_time": "2024-04-04T21:06:26.072692",
     "exception": false,
     "start_time": "2024-04-04T21:06:26.024687",
     "status": "completed"
    },
    "tags": []
   },
   "outputs": [],
   "source": [
    "# Shuffling the data\n",
    "parkinsons = parkinsons.sample(frac=1, random_state=42).copy()"
   ]
  },
  {
   "cell_type": "code",
   "execution_count": 8,
   "id": "4ddc7023",
   "metadata": {
    "execution": {
     "iopub.execute_input": "2024-04-04T21:06:26.121151Z",
     "iopub.status.busy": "2024-04-04T21:06:26.119689Z",
     "iopub.status.idle": "2024-04-04T21:06:26.618011Z",
     "shell.execute_reply": "2024-04-04T21:06:26.616840Z"
    },
    "papermill": {
     "duration": 0.524687,
     "end_time": "2024-04-04T21:06:26.621264",
     "exception": false,
     "start_time": "2024-04-04T21:06:26.096577",
     "status": "completed"
    },
    "tags": []
   },
   "outputs": [],
   "source": [
    "# Splitting the data into train and test data\n",
    "from sklearn.model_selection import train_test_split\n",
    "X = parkinsons.drop([\"name\", \"status\"], axis=1) \n",
    "y = parkinsons[\"status\"]\n",
    "X_train, X_test, y_train, y_test = train_test_split(X, y, test_size=0.2, random_state=51)"
   ]
  },
  {
   "cell_type": "code",
   "execution_count": 9,
   "id": "abc30f6b",
   "metadata": {
    "execution": {
     "iopub.execute_input": "2024-04-04T21:06:26.662847Z",
     "iopub.status.busy": "2024-04-04T21:06:26.661591Z",
     "iopub.status.idle": "2024-04-04T21:06:26.708510Z",
     "shell.execute_reply": "2024-04-04T21:06:26.707178Z"
    },
    "papermill": {
     "duration": 0.071295,
     "end_time": "2024-04-04T21:06:26.711704",
     "exception": false,
     "start_time": "2024-04-04T21:06:26.640409",
     "status": "completed"
    },
    "tags": []
   },
   "outputs": [
    {
     "data": {
      "text/html": [
       "<div>\n",
       "<style scoped>\n",
       "    .dataframe tbody tr th:only-of-type {\n",
       "        vertical-align: middle;\n",
       "    }\n",
       "\n",
       "    .dataframe tbody tr th {\n",
       "        vertical-align: top;\n",
       "    }\n",
       "\n",
       "    .dataframe thead th {\n",
       "        text-align: right;\n",
       "    }\n",
       "</style>\n",
       "<table border=\"1\" class=\"dataframe\">\n",
       "  <thead>\n",
       "    <tr style=\"text-align: right;\">\n",
       "      <th></th>\n",
       "      <th>MDVP:Fo(Hz)</th>\n",
       "      <th>MDVP:Fhi(Hz)</th>\n",
       "      <th>MDVP:Flo(Hz)</th>\n",
       "      <th>MDVP:Jitter(%)</th>\n",
       "      <th>MDVP:Jitter(Abs)</th>\n",
       "      <th>MDVP:RAP</th>\n",
       "      <th>MDVP:PPQ</th>\n",
       "      <th>Jitter:DDP</th>\n",
       "      <th>MDVP:Shimmer</th>\n",
       "      <th>MDVP:Shimmer(dB)</th>\n",
       "      <th>...</th>\n",
       "      <th>MDVP:APQ</th>\n",
       "      <th>Shimmer:DDA</th>\n",
       "      <th>NHR</th>\n",
       "      <th>HNR</th>\n",
       "      <th>RPDE</th>\n",
       "      <th>DFA</th>\n",
       "      <th>spread1</th>\n",
       "      <th>spread2</th>\n",
       "      <th>D2</th>\n",
       "      <th>PPE</th>\n",
       "    </tr>\n",
       "  </thead>\n",
       "  <tbody>\n",
       "    <tr>\n",
       "      <th>110</th>\n",
       "      <td>200.714</td>\n",
       "      <td>223.982</td>\n",
       "      <td>89.686</td>\n",
       "      <td>0.00621</td>\n",
       "      <td>0.00003</td>\n",
       "      <td>0.00371</td>\n",
       "      <td>0.00337</td>\n",
       "      <td>0.01112</td>\n",
       "      <td>0.02286</td>\n",
       "      <td>0.207</td>\n",
       "      <td>...</td>\n",
       "      <td>0.01852</td>\n",
       "      <td>0.03576</td>\n",
       "      <td>0.00704</td>\n",
       "      <td>23.239</td>\n",
       "      <td>0.436084</td>\n",
       "      <td>0.727863</td>\n",
       "      <td>-5.258320</td>\n",
       "      <td>0.256454</td>\n",
       "      <td>2.550961</td>\n",
       "      <td>0.232520</td>\n",
       "    </tr>\n",
       "    <tr>\n",
       "      <th>38</th>\n",
       "      <td>180.198</td>\n",
       "      <td>201.249</td>\n",
       "      <td>175.456</td>\n",
       "      <td>0.00284</td>\n",
       "      <td>0.00002</td>\n",
       "      <td>0.00153</td>\n",
       "      <td>0.00166</td>\n",
       "      <td>0.00459</td>\n",
       "      <td>0.01444</td>\n",
       "      <td>0.131</td>\n",
       "      <td>...</td>\n",
       "      <td>0.01190</td>\n",
       "      <td>0.02177</td>\n",
       "      <td>0.00231</td>\n",
       "      <td>26.738</td>\n",
       "      <td>0.403884</td>\n",
       "      <td>0.766209</td>\n",
       "      <td>-6.452058</td>\n",
       "      <td>0.212294</td>\n",
       "      <td>2.269398</td>\n",
       "      <td>0.141929</td>\n",
       "    </tr>\n",
       "    <tr>\n",
       "      <th>149</th>\n",
       "      <td>202.632</td>\n",
       "      <td>565.740</td>\n",
       "      <td>177.258</td>\n",
       "      <td>0.01627</td>\n",
       "      <td>0.00008</td>\n",
       "      <td>0.00919</td>\n",
       "      <td>0.00963</td>\n",
       "      <td>0.02756</td>\n",
       "      <td>0.07170</td>\n",
       "      <td>0.833</td>\n",
       "      <td>...</td>\n",
       "      <td>0.06460</td>\n",
       "      <td>0.10546</td>\n",
       "      <td>0.07889</td>\n",
       "      <td>14.989</td>\n",
       "      <td>0.427627</td>\n",
       "      <td>0.775708</td>\n",
       "      <td>-4.892495</td>\n",
       "      <td>0.262281</td>\n",
       "      <td>2.910213</td>\n",
       "      <td>0.270173</td>\n",
       "    </tr>\n",
       "    <tr>\n",
       "      <th>111</th>\n",
       "      <td>208.519</td>\n",
       "      <td>220.315</td>\n",
       "      <td>199.020</td>\n",
       "      <td>0.00609</td>\n",
       "      <td>0.00003</td>\n",
       "      <td>0.00368</td>\n",
       "      <td>0.00339</td>\n",
       "      <td>0.01105</td>\n",
       "      <td>0.01761</td>\n",
       "      <td>0.155</td>\n",
       "      <td>...</td>\n",
       "      <td>0.01307</td>\n",
       "      <td>0.02855</td>\n",
       "      <td>0.00830</td>\n",
       "      <td>22.407</td>\n",
       "      <td>0.338097</td>\n",
       "      <td>0.712466</td>\n",
       "      <td>-6.471427</td>\n",
       "      <td>0.184378</td>\n",
       "      <td>2.502336</td>\n",
       "      <td>0.136390</td>\n",
       "    </tr>\n",
       "    <tr>\n",
       "      <th>119</th>\n",
       "      <td>217.116</td>\n",
       "      <td>233.481</td>\n",
       "      <td>93.978</td>\n",
       "      <td>0.00404</td>\n",
       "      <td>0.00002</td>\n",
       "      <td>0.00127</td>\n",
       "      <td>0.00128</td>\n",
       "      <td>0.00381</td>\n",
       "      <td>0.01299</td>\n",
       "      <td>0.124</td>\n",
       "      <td>...</td>\n",
       "      <td>0.01075</td>\n",
       "      <td>0.02038</td>\n",
       "      <td>0.00681</td>\n",
       "      <td>24.581</td>\n",
       "      <td>0.462516</td>\n",
       "      <td>0.582710</td>\n",
       "      <td>-5.517173</td>\n",
       "      <td>0.389295</td>\n",
       "      <td>2.925862</td>\n",
       "      <td>0.220657</td>\n",
       "    </tr>\n",
       "    <tr>\n",
       "      <th>...</th>\n",
       "      <td>...</td>\n",
       "      <td>...</td>\n",
       "      <td>...</td>\n",
       "      <td>...</td>\n",
       "      <td>...</td>\n",
       "      <td>...</td>\n",
       "      <td>...</td>\n",
       "      <td>...</td>\n",
       "      <td>...</td>\n",
       "      <td>...</td>\n",
       "      <td>...</td>\n",
       "      <td>...</td>\n",
       "      <td>...</td>\n",
       "      <td>...</td>\n",
       "      <td>...</td>\n",
       "      <td>...</td>\n",
       "      <td>...</td>\n",
       "      <td>...</td>\n",
       "      <td>...</td>\n",
       "      <td>...</td>\n",
       "      <td>...</td>\n",
       "    </tr>\n",
       "    <tr>\n",
       "      <th>125</th>\n",
       "      <td>145.174</td>\n",
       "      <td>198.109</td>\n",
       "      <td>80.637</td>\n",
       "      <td>0.00733</td>\n",
       "      <td>0.00005</td>\n",
       "      <td>0.00414</td>\n",
       "      <td>0.00422</td>\n",
       "      <td>0.01242</td>\n",
       "      <td>0.02362</td>\n",
       "      <td>0.233</td>\n",
       "      <td>...</td>\n",
       "      <td>0.01944</td>\n",
       "      <td>0.03706</td>\n",
       "      <td>0.01874</td>\n",
       "      <td>18.857</td>\n",
       "      <td>0.637518</td>\n",
       "      <td>0.735546</td>\n",
       "      <td>-5.594275</td>\n",
       "      <td>0.127950</td>\n",
       "      <td>1.765957</td>\n",
       "      <td>0.222716</td>\n",
       "    </tr>\n",
       "    <tr>\n",
       "      <th>103</th>\n",
       "      <td>150.258</td>\n",
       "      <td>154.609</td>\n",
       "      <td>75.349</td>\n",
       "      <td>0.00248</td>\n",
       "      <td>0.00002</td>\n",
       "      <td>0.00105</td>\n",
       "      <td>0.00136</td>\n",
       "      <td>0.00315</td>\n",
       "      <td>0.01131</td>\n",
       "      <td>0.107</td>\n",
       "      <td>...</td>\n",
       "      <td>0.01009</td>\n",
       "      <td>0.01567</td>\n",
       "      <td>0.00495</td>\n",
       "      <td>26.759</td>\n",
       "      <td>0.296888</td>\n",
       "      <td>0.722356</td>\n",
       "      <td>-6.878393</td>\n",
       "      <td>0.089267</td>\n",
       "      <td>2.004055</td>\n",
       "      <td>0.113942</td>\n",
       "    </tr>\n",
       "    <tr>\n",
       "      <th>13</th>\n",
       "      <td>139.173</td>\n",
       "      <td>179.139</td>\n",
       "      <td>76.556</td>\n",
       "      <td>0.00390</td>\n",
       "      <td>0.00003</td>\n",
       "      <td>0.00165</td>\n",
       "      <td>0.00208</td>\n",
       "      <td>0.00496</td>\n",
       "      <td>0.01642</td>\n",
       "      <td>0.154</td>\n",
       "      <td>...</td>\n",
       "      <td>0.01797</td>\n",
       "      <td>0.02184</td>\n",
       "      <td>0.01041</td>\n",
       "      <td>24.889</td>\n",
       "      <td>0.430166</td>\n",
       "      <td>0.665833</td>\n",
       "      <td>-5.660217</td>\n",
       "      <td>0.254989</td>\n",
       "      <td>2.519422</td>\n",
       "      <td>0.199889</td>\n",
       "    </tr>\n",
       "    <tr>\n",
       "      <th>69</th>\n",
       "      <td>148.090</td>\n",
       "      <td>162.824</td>\n",
       "      <td>67.343</td>\n",
       "      <td>0.00762</td>\n",
       "      <td>0.00005</td>\n",
       "      <td>0.00467</td>\n",
       "      <td>0.00354</td>\n",
       "      <td>0.01400</td>\n",
       "      <td>0.05428</td>\n",
       "      <td>0.497</td>\n",
       "      <td>...</td>\n",
       "      <td>0.03635</td>\n",
       "      <td>0.10070</td>\n",
       "      <td>0.02431</td>\n",
       "      <td>21.718</td>\n",
       "      <td>0.487407</td>\n",
       "      <td>0.727313</td>\n",
       "      <td>-6.261141</td>\n",
       "      <td>0.120956</td>\n",
       "      <td>2.137075</td>\n",
       "      <td>0.141958</td>\n",
       "    </tr>\n",
       "    <tr>\n",
       "      <th>51</th>\n",
       "      <td>126.344</td>\n",
       "      <td>134.231</td>\n",
       "      <td>112.773</td>\n",
       "      <td>0.00448</td>\n",
       "      <td>0.00004</td>\n",
       "      <td>0.00131</td>\n",
       "      <td>0.00169</td>\n",
       "      <td>0.00393</td>\n",
       "      <td>0.02033</td>\n",
       "      <td>0.185</td>\n",
       "      <td>...</td>\n",
       "      <td>0.01614</td>\n",
       "      <td>0.03429</td>\n",
       "      <td>0.00474</td>\n",
       "      <td>25.030</td>\n",
       "      <td>0.507504</td>\n",
       "      <td>0.760361</td>\n",
       "      <td>-6.689151</td>\n",
       "      <td>0.291954</td>\n",
       "      <td>2.431854</td>\n",
       "      <td>0.105993</td>\n",
       "    </tr>\n",
       "  </tbody>\n",
       "</table>\n",
       "<p>156 rows × 22 columns</p>\n",
       "</div>"
      ],
      "text/plain": [
       "     MDVP:Fo(Hz)  MDVP:Fhi(Hz)  MDVP:Flo(Hz)  MDVP:Jitter(%)  \\\n",
       "110      200.714       223.982        89.686         0.00621   \n",
       "38       180.198       201.249       175.456         0.00284   \n",
       "149      202.632       565.740       177.258         0.01627   \n",
       "111      208.519       220.315       199.020         0.00609   \n",
       "119      217.116       233.481        93.978         0.00404   \n",
       "..           ...           ...           ...             ...   \n",
       "125      145.174       198.109        80.637         0.00733   \n",
       "103      150.258       154.609        75.349         0.00248   \n",
       "13       139.173       179.139        76.556         0.00390   \n",
       "69       148.090       162.824        67.343         0.00762   \n",
       "51       126.344       134.231       112.773         0.00448   \n",
       "\n",
       "     MDVP:Jitter(Abs)  MDVP:RAP  MDVP:PPQ  Jitter:DDP  MDVP:Shimmer  \\\n",
       "110           0.00003   0.00371   0.00337     0.01112       0.02286   \n",
       "38            0.00002   0.00153   0.00166     0.00459       0.01444   \n",
       "149           0.00008   0.00919   0.00963     0.02756       0.07170   \n",
       "111           0.00003   0.00368   0.00339     0.01105       0.01761   \n",
       "119           0.00002   0.00127   0.00128     0.00381       0.01299   \n",
       "..                ...       ...       ...         ...           ...   \n",
       "125           0.00005   0.00414   0.00422     0.01242       0.02362   \n",
       "103           0.00002   0.00105   0.00136     0.00315       0.01131   \n",
       "13            0.00003   0.00165   0.00208     0.00496       0.01642   \n",
       "69            0.00005   0.00467   0.00354     0.01400       0.05428   \n",
       "51            0.00004   0.00131   0.00169     0.00393       0.02033   \n",
       "\n",
       "     MDVP:Shimmer(dB)  ...  MDVP:APQ  Shimmer:DDA      NHR     HNR      RPDE  \\\n",
       "110             0.207  ...   0.01852      0.03576  0.00704  23.239  0.436084   \n",
       "38              0.131  ...   0.01190      0.02177  0.00231  26.738  0.403884   \n",
       "149             0.833  ...   0.06460      0.10546  0.07889  14.989  0.427627   \n",
       "111             0.155  ...   0.01307      0.02855  0.00830  22.407  0.338097   \n",
       "119             0.124  ...   0.01075      0.02038  0.00681  24.581  0.462516   \n",
       "..                ...  ...       ...          ...      ...     ...       ...   \n",
       "125             0.233  ...   0.01944      0.03706  0.01874  18.857  0.637518   \n",
       "103             0.107  ...   0.01009      0.01567  0.00495  26.759  0.296888   \n",
       "13              0.154  ...   0.01797      0.02184  0.01041  24.889  0.430166   \n",
       "69              0.497  ...   0.03635      0.10070  0.02431  21.718  0.487407   \n",
       "51              0.185  ...   0.01614      0.03429  0.00474  25.030  0.507504   \n",
       "\n",
       "          DFA   spread1   spread2        D2       PPE  \n",
       "110  0.727863 -5.258320  0.256454  2.550961  0.232520  \n",
       "38   0.766209 -6.452058  0.212294  2.269398  0.141929  \n",
       "149  0.775708 -4.892495  0.262281  2.910213  0.270173  \n",
       "111  0.712466 -6.471427  0.184378  2.502336  0.136390  \n",
       "119  0.582710 -5.517173  0.389295  2.925862  0.220657  \n",
       "..        ...       ...       ...       ...       ...  \n",
       "125  0.735546 -5.594275  0.127950  1.765957  0.222716  \n",
       "103  0.722356 -6.878393  0.089267  2.004055  0.113942  \n",
       "13   0.665833 -5.660217  0.254989  2.519422  0.199889  \n",
       "69   0.727313 -6.261141  0.120956  2.137075  0.141958  \n",
       "51   0.760361 -6.689151  0.291954  2.431854  0.105993  \n",
       "\n",
       "[156 rows x 22 columns]"
      ]
     },
     "execution_count": 9,
     "metadata": {},
     "output_type": "execute_result"
    }
   ],
   "source": [
    "# Setting the train data to variable name \"parkinsons\" for data preprocessing\n",
    "parkinsons = X_train.copy()\n",
    "parkinsons"
   ]
  },
  {
   "cell_type": "code",
   "execution_count": 10,
   "id": "c543d644",
   "metadata": {
    "execution": {
     "iopub.execute_input": "2024-04-04T21:06:26.753471Z",
     "iopub.status.busy": "2024-04-04T21:06:26.752959Z",
     "iopub.status.idle": "2024-04-04T21:06:26.763485Z",
     "shell.execute_reply": "2024-04-04T21:06:26.761854Z"
    },
    "papermill": {
     "duration": 0.03372,
     "end_time": "2024-04-04T21:06:26.766352",
     "exception": false,
     "start_time": "2024-04-04T21:06:26.732632",
     "status": "completed"
    },
    "tags": []
   },
   "outputs": [
    {
     "data": {
      "text/plain": [
       "110    1\n",
       "38     1\n",
       "149    1\n",
       "111    1\n",
       "119    1\n",
       "      ..\n",
       "125    1\n",
       "103    1\n",
       "13     1\n",
       "69     1\n",
       "51     0\n",
       "Name: status, Length: 156, dtype: int64"
      ]
     },
     "execution_count": 10,
     "metadata": {},
     "output_type": "execute_result"
    }
   ],
   "source": [
    "y_train"
   ]
  },
  {
   "cell_type": "code",
   "execution_count": 11,
   "id": "46a0027a",
   "metadata": {
    "execution": {
     "iopub.execute_input": "2024-04-04T21:06:26.809059Z",
     "iopub.status.busy": "2024-04-04T21:06:26.808582Z",
     "iopub.status.idle": "2024-04-04T21:06:26.820983Z",
     "shell.execute_reply": "2024-04-04T21:06:26.819237Z"
    },
    "papermill": {
     "duration": 0.0379,
     "end_time": "2024-04-04T21:06:26.824307",
     "exception": false,
     "start_time": "2024-04-04T21:06:26.786407",
     "status": "completed"
    },
    "tags": []
   },
   "outputs": [
    {
     "data": {
      "text/plain": [
       "MDVP:Fo(Hz)         200.714000\n",
       "MDVP:Fhi(Hz)        223.982000\n",
       "MDVP:Flo(Hz)         89.686000\n",
       "MDVP:Jitter(%)        0.006210\n",
       "MDVP:Jitter(Abs)      0.000030\n",
       "MDVP:RAP              0.003710\n",
       "MDVP:PPQ              0.003370\n",
       "Jitter:DDP            0.011120\n",
       "MDVP:Shimmer          0.022860\n",
       "MDVP:Shimmer(dB)      0.207000\n",
       "Shimmer:APQ3          0.011920\n",
       "Shimmer:APQ5          0.014390\n",
       "MDVP:APQ              0.018520\n",
       "Shimmer:DDA           0.035760\n",
       "NHR                   0.007040\n",
       "HNR                  23.239000\n",
       "RPDE                  0.436084\n",
       "DFA                   0.727863\n",
       "spread1              -5.258320\n",
       "spread2               0.256454\n",
       "D2                    2.550961\n",
       "PPE                   0.232520\n",
       "Name: 110, dtype: float64"
      ]
     },
     "execution_count": 11,
     "metadata": {},
     "output_type": "execute_result"
    }
   ],
   "source": [
    "parkinsons.iloc[0]"
   ]
  },
  {
   "cell_type": "code",
   "execution_count": 12,
   "id": "4880c729",
   "metadata": {
    "execution": {
     "iopub.execute_input": "2024-04-04T21:06:26.867498Z",
     "iopub.status.busy": "2024-04-04T21:06:26.866967Z",
     "iopub.status.idle": "2024-04-04T21:06:26.874670Z",
     "shell.execute_reply": "2024-04-04T21:06:26.872684Z"
    },
    "papermill": {
     "duration": 0.033631,
     "end_time": "2024-04-04T21:06:26.877595",
     "exception": false,
     "start_time": "2024-04-04T21:06:26.843964",
     "status": "completed"
    },
    "tags": []
   },
   "outputs": [],
   "source": [
    "# Extracting features\n",
    "features = [feature for feature in parkinsons.columns]"
   ]
  },
  {
   "cell_type": "code",
   "execution_count": 13,
   "id": "0c52e841",
   "metadata": {
    "execution": {
     "iopub.execute_input": "2024-04-04T21:06:26.920139Z",
     "iopub.status.busy": "2024-04-04T21:06:26.919620Z",
     "iopub.status.idle": "2024-04-04T21:06:26.931583Z",
     "shell.execute_reply": "2024-04-04T21:06:26.930199Z"
    },
    "papermill": {
     "duration": 0.036485,
     "end_time": "2024-04-04T21:06:26.934994",
     "exception": false,
     "start_time": "2024-04-04T21:06:26.898509",
     "status": "completed"
    },
    "tags": []
   },
   "outputs": [
    {
     "data": {
      "text/plain": [
       "MDVP:Fo(Hz)         0\n",
       "MDVP:Fhi(Hz)        0\n",
       "MDVP:Flo(Hz)        0\n",
       "MDVP:Jitter(%)      0\n",
       "MDVP:Jitter(Abs)    0\n",
       "MDVP:RAP            0\n",
       "MDVP:PPQ            0\n",
       "Jitter:DDP          0\n",
       "MDVP:Shimmer        0\n",
       "MDVP:Shimmer(dB)    0\n",
       "Shimmer:APQ3        0\n",
       "Shimmer:APQ5        0\n",
       "MDVP:APQ            0\n",
       "Shimmer:DDA         0\n",
       "NHR                 0\n",
       "HNR                 0\n",
       "RPDE                0\n",
       "DFA                 0\n",
       "spread1             0\n",
       "spread2             0\n",
       "D2                  0\n",
       "PPE                 0\n",
       "dtype: int64"
      ]
     },
     "execution_count": 13,
     "metadata": {},
     "output_type": "execute_result"
    }
   ],
   "source": [
    "# Check total of missing values\n",
    "parkinsons.isna().sum()"
   ]
  },
  {
   "cell_type": "code",
   "execution_count": 14,
   "id": "cb61d990",
   "metadata": {
    "execution": {
     "iopub.execute_input": "2024-04-04T21:06:26.976547Z",
     "iopub.status.busy": "2024-04-04T21:06:26.975621Z",
     "iopub.status.idle": "2024-04-04T21:06:26.982518Z",
     "shell.execute_reply": "2024-04-04T21:06:26.981035Z"
    },
    "papermill": {
     "duration": 0.031495,
     "end_time": "2024-04-04T21:06:26.985392",
     "exception": false,
     "start_time": "2024-04-04T21:06:26.953897",
     "status": "completed"
    },
    "tags": []
   },
   "outputs": [],
   "source": [
    "# import library for scaling\n",
    "from sklearn.preprocessing import StandardScaler"
   ]
  },
  {
   "cell_type": "code",
   "execution_count": 15,
   "id": "343474bf",
   "metadata": {
    "execution": {
     "iopub.execute_input": "2024-04-04T21:06:27.027980Z",
     "iopub.status.busy": "2024-04-04T21:06:27.027437Z",
     "iopub.status.idle": "2024-04-04T21:06:27.048311Z",
     "shell.execute_reply": "2024-04-04T21:06:27.047054Z"
    },
    "papermill": {
     "duration": 0.047037,
     "end_time": "2024-04-04T21:06:27.051672",
     "exception": false,
     "start_time": "2024-04-04T21:06:27.004635",
     "status": "completed"
    },
    "tags": []
   },
   "outputs": [],
   "source": [
    "# initialize and scale values\n",
    "scaler = StandardScaler()\n",
    "scaler.fit(parkinsons[features])\n",
    "parkinsons[features] = scaler.transform(parkinsons[features])"
   ]
  },
  {
   "cell_type": "code",
   "execution_count": 16,
   "id": "2262a474",
   "metadata": {
    "execution": {
     "iopub.execute_input": "2024-04-04T21:06:27.096261Z",
     "iopub.status.busy": "2024-04-04T21:06:27.095692Z",
     "iopub.status.idle": "2024-04-04T21:06:27.111023Z",
     "shell.execute_reply": "2024-04-04T21:06:27.109168Z"
    },
    "papermill": {
     "duration": 0.042679,
     "end_time": "2024-04-04T21:06:27.115167",
     "exception": false,
     "start_time": "2024-04-04T21:06:27.072488",
     "status": "completed"
    },
    "tags": []
   },
   "outputs": [
    {
     "data": {
      "text/plain": [
       "['tools/scaler_joblib']"
      ]
     },
     "execution_count": 16,
     "metadata": {},
     "output_type": "execute_result"
    }
   ],
   "source": [
    "import os\n",
    "import joblib\n",
    "if not os.path.exists('tools'):\n",
    "    os.makedirs('tools')\n",
    "\n",
    "joblib.dump(scaler, \"tools/scaler_joblib\")"
   ]
  },
  {
   "cell_type": "code",
   "execution_count": 17,
   "id": "6d8a718e",
   "metadata": {
    "execution": {
     "iopub.execute_input": "2024-04-04T21:06:27.167458Z",
     "iopub.status.busy": "2024-04-04T21:06:27.166879Z",
     "iopub.status.idle": "2024-04-04T21:06:27.180586Z",
     "shell.execute_reply": "2024-04-04T21:06:27.179229Z"
    },
    "papermill": {
     "duration": 0.043282,
     "end_time": "2024-04-04T21:06:27.184053",
     "exception": false,
     "start_time": "2024-04-04T21:06:27.140771",
     "status": "completed"
    },
    "tags": []
   },
   "outputs": [
    {
     "data": {
      "text/plain": [
       "status\n",
       "1    0.74359\n",
       "0    0.25641\n",
       "Name: proportion, dtype: float64"
      ]
     },
     "execution_count": 17,
     "metadata": {},
     "output_type": "execute_result"
    }
   ],
   "source": [
    "#  Ratio of No Parkinson to Parkinson\n",
    "y_train.value_counts(normalize=True)"
   ]
  },
  {
   "cell_type": "code",
   "execution_count": 18,
   "id": "b3b53c14",
   "metadata": {
    "execution": {
     "iopub.execute_input": "2024-04-04T21:06:27.227916Z",
     "iopub.status.busy": "2024-04-04T21:06:27.226935Z",
     "iopub.status.idle": "2024-04-04T21:06:27.235743Z",
     "shell.execute_reply": "2024-04-04T21:06:27.234453Z"
    },
    "papermill": {
     "duration": 0.035671,
     "end_time": "2024-04-04T21:06:27.239415",
     "exception": false,
     "start_time": "2024-04-04T21:06:27.203744",
     "status": "completed"
    },
    "tags": []
   },
   "outputs": [],
   "source": [
    "# joining the data together\n",
    "parkinsons = pd.concat([parkinsons, y_train], axis=1)"
   ]
  },
  {
   "cell_type": "code",
   "execution_count": 19,
   "id": "04a9706a",
   "metadata": {
    "execution": {
     "iopub.execute_input": "2024-04-04T21:06:27.288632Z",
     "iopub.status.busy": "2024-04-04T21:06:27.288109Z",
     "iopub.status.idle": "2024-04-04T21:06:28.056257Z",
     "shell.execute_reply": "2024-04-04T21:06:28.054332Z"
    },
    "papermill": {
     "duration": 0.79994,
     "end_time": "2024-04-04T21:06:28.061233",
     "exception": false,
     "start_time": "2024-04-04T21:06:27.261293",
     "status": "completed"
    },
    "tags": []
   },
   "outputs": [],
   "source": [
    "# Balancing the data\n",
    "from imblearn.over_sampling import SMOTE\n",
    "smote = SMOTE(random_state=51)\n",
    "X = parkinsons.drop(\"status\", axis=1) \n",
    "y = parkinsons[\"status\"]\n",
    "X_train, y_train = smote.fit_resample(X, y)"
   ]
  },
  {
   "cell_type": "code",
   "execution_count": 20,
   "id": "9b118be3",
   "metadata": {
    "execution": {
     "iopub.execute_input": "2024-04-04T21:06:28.111207Z",
     "iopub.status.busy": "2024-04-04T21:06:28.109326Z",
     "iopub.status.idle": "2024-04-04T21:06:28.123210Z",
     "shell.execute_reply": "2024-04-04T21:06:28.121296Z"
    },
    "papermill": {
     "duration": 0.043428,
     "end_time": "2024-04-04T21:06:28.127149",
     "exception": false,
     "start_time": "2024-04-04T21:06:28.083721",
     "status": "completed"
    },
    "tags": []
   },
   "outputs": [
    {
     "data": {
      "text/plain": [
       "status\n",
       "1    0.5\n",
       "0    0.5\n",
       "Name: proportion, dtype: float64"
      ]
     },
     "execution_count": 20,
     "metadata": {},
     "output_type": "execute_result"
    }
   ],
   "source": [
    "#  Ratio of No Diabetes to Diabetes\n",
    "y_train.value_counts(normalize=True)"
   ]
  },
  {
   "cell_type": "code",
   "execution_count": 21,
   "id": "9b486e00",
   "metadata": {
    "execution": {
     "iopub.execute_input": "2024-04-04T21:06:28.178091Z",
     "iopub.status.busy": "2024-04-04T21:06:28.176419Z",
     "iopub.status.idle": "2024-04-04T21:06:28.194744Z",
     "shell.execute_reply": "2024-04-04T21:06:28.192897Z"
    },
    "papermill": {
     "duration": 0.049651,
     "end_time": "2024-04-04T21:06:28.199520",
     "exception": false,
     "start_time": "2024-04-04T21:06:28.149869",
     "status": "completed"
    },
    "tags": []
   },
   "outputs": [],
   "source": [
    "X_test[features] = scaler.transform(X_test[features]) # scaling features"
   ]
  },
  {
   "cell_type": "code",
   "execution_count": 22,
   "id": "160dab33",
   "metadata": {
    "execution": {
     "iopub.execute_input": "2024-04-04T21:06:28.252383Z",
     "iopub.status.busy": "2024-04-04T21:06:28.251852Z",
     "iopub.status.idle": "2024-04-04T21:06:28.292770Z",
     "shell.execute_reply": "2024-04-04T21:06:28.289681Z"
    },
    "papermill": {
     "duration": 0.072536,
     "end_time": "2024-04-04T21:06:28.296104",
     "exception": false,
     "start_time": "2024-04-04T21:06:28.223568",
     "status": "completed"
    },
    "tags": []
   },
   "outputs": [
    {
     "data": {
      "text/html": [
       "<div>\n",
       "<style scoped>\n",
       "    .dataframe tbody tr th:only-of-type {\n",
       "        vertical-align: middle;\n",
       "    }\n",
       "\n",
       "    .dataframe tbody tr th {\n",
       "        vertical-align: top;\n",
       "    }\n",
       "\n",
       "    .dataframe thead th {\n",
       "        text-align: right;\n",
       "    }\n",
       "</style>\n",
       "<table border=\"1\" class=\"dataframe\">\n",
       "  <thead>\n",
       "    <tr style=\"text-align: right;\">\n",
       "      <th></th>\n",
       "      <th>MDVP:Fo(Hz)</th>\n",
       "      <th>MDVP:Fhi(Hz)</th>\n",
       "      <th>MDVP:Flo(Hz)</th>\n",
       "      <th>MDVP:Jitter(%)</th>\n",
       "      <th>MDVP:Jitter(Abs)</th>\n",
       "      <th>MDVP:RAP</th>\n",
       "      <th>MDVP:PPQ</th>\n",
       "      <th>Jitter:DDP</th>\n",
       "      <th>MDVP:Shimmer</th>\n",
       "      <th>MDVP:Shimmer(dB)</th>\n",
       "      <th>...</th>\n",
       "      <th>MDVP:APQ</th>\n",
       "      <th>Shimmer:DDA</th>\n",
       "      <th>NHR</th>\n",
       "      <th>HNR</th>\n",
       "      <th>RPDE</th>\n",
       "      <th>DFA</th>\n",
       "      <th>spread1</th>\n",
       "      <th>spread2</th>\n",
       "      <th>D2</th>\n",
       "      <th>PPE</th>\n",
       "    </tr>\n",
       "  </thead>\n",
       "  <tbody>\n",
       "    <tr>\n",
       "      <th>178</th>\n",
       "      <td>-0.151432</td>\n",
       "      <td>-0.447968</td>\n",
       "      <td>0.531967</td>\n",
       "      <td>-0.627798</td>\n",
       "      <td>-0.672123</td>\n",
       "      <td>-0.581369</td>\n",
       "      <td>-0.560485</td>\n",
       "      <td>-0.581443</td>\n",
       "      <td>-0.705749</td>\n",
       "      <td>-0.689308</td>\n",
       "      <td>...</td>\n",
       "      <td>-0.619726</td>\n",
       "      <td>-0.677014</td>\n",
       "      <td>-0.479478</td>\n",
       "      <td>0.519697</td>\n",
       "      <td>-0.883598</td>\n",
       "      <td>0.798224</td>\n",
       "      <td>-0.550574</td>\n",
       "      <td>-0.517415</td>\n",
       "      <td>-0.323720</td>\n",
       "      <td>-0.483962</td>\n",
       "    </tr>\n",
       "    <tr>\n",
       "      <th>171</th>\n",
       "      <td>-1.039602</td>\n",
       "      <td>-0.700585</td>\n",
       "      <td>-0.238230</td>\n",
       "      <td>-0.537601</td>\n",
       "      <td>-0.392743</td>\n",
       "      <td>-0.536514</td>\n",
       "      <td>-0.546879</td>\n",
       "      <td>-0.535520</td>\n",
       "      <td>-0.818315</td>\n",
       "      <td>-0.754158</td>\n",
       "      <td>...</td>\n",
       "      <td>-0.717257</td>\n",
       "      <td>-0.846283</td>\n",
       "      <td>-0.491718</td>\n",
       "      <td>0.958974</td>\n",
       "      <td>-0.782484</td>\n",
       "      <td>0.693933</td>\n",
       "      <td>-0.561047</td>\n",
       "      <td>-0.078752</td>\n",
       "      <td>-0.470999</td>\n",
       "      <td>-0.483204</td>\n",
       "    </tr>\n",
       "    <tr>\n",
       "      <th>137</th>\n",
       "      <td>-1.024432</td>\n",
       "      <td>-0.731969</td>\n",
       "      <td>-0.354934</td>\n",
       "      <td>-0.249362</td>\n",
       "      <td>-0.113364</td>\n",
       "      <td>-0.244957</td>\n",
       "      <td>-0.131912</td>\n",
       "      <td>-0.243967</td>\n",
       "      <td>1.225079</td>\n",
       "      <td>0.976850</td>\n",
       "      <td>...</td>\n",
       "      <td>1.010606</td>\n",
       "      <td>1.308839</td>\n",
       "      <td>0.260061</td>\n",
       "      <td>-1.143867</td>\n",
       "      <td>1.220770</td>\n",
       "      <td>-0.169468</td>\n",
       "      <td>0.952868</td>\n",
       "      <td>0.947541</td>\n",
       "      <td>0.742242</td>\n",
       "      <td>0.751637</td>\n",
       "    </tr>\n",
       "    <tr>\n",
       "      <th>15</th>\n",
       "      <td>-0.313735</td>\n",
       "      <td>0.149539</td>\n",
       "      <td>-0.760321</td>\n",
       "      <td>-0.510150</td>\n",
       "      <td>-0.392743</td>\n",
       "      <td>-0.565350</td>\n",
       "      <td>-0.502661</td>\n",
       "      <td>-0.565423</td>\n",
       "      <td>-0.742750</td>\n",
       "      <td>-0.769124</td>\n",
       "      <td>...</td>\n",
       "      <td>-0.590870</td>\n",
       "      <td>-0.742018</td>\n",
       "      <td>-0.398410</td>\n",
       "      <td>0.685294</td>\n",
       "      <td>0.659299</td>\n",
       "      <td>-1.073972</td>\n",
       "      <td>0.331183</td>\n",
       "      <td>-0.183522</td>\n",
       "      <td>-0.440262</td>\n",
       "      <td>0.320589</td>\n",
       "    </tr>\n",
       "    <tr>\n",
       "      <th>157</th>\n",
       "      <td>-0.906877</td>\n",
       "      <td>-0.692143</td>\n",
       "      <td>-0.352990</td>\n",
       "      <td>2.321258</td>\n",
       "      <td>2.959811</td>\n",
       "      <td>2.510423</td>\n",
       "      <td>1.249044</td>\n",
       "      <td>2.510302</td>\n",
       "      <td>1.033820</td>\n",
       "      <td>0.787287</td>\n",
       "      <td>...</td>\n",
       "      <td>0.307688</td>\n",
       "      <td>1.032409</td>\n",
       "      <td>1.890187</td>\n",
       "      <td>-0.638612</td>\n",
       "      <td>1.269749</td>\n",
       "      <td>-1.279736</td>\n",
       "      <td>2.051050</td>\n",
       "      <td>0.936787</td>\n",
       "      <td>1.482436</td>\n",
       "      <td>0.609947</td>\n",
       "    </tr>\n",
       "  </tbody>\n",
       "</table>\n",
       "<p>5 rows × 22 columns</p>\n",
       "</div>"
      ],
      "text/plain": [
       "     MDVP:Fo(Hz)  MDVP:Fhi(Hz)  MDVP:Flo(Hz)  MDVP:Jitter(%)  \\\n",
       "178    -0.151432     -0.447968      0.531967       -0.627798   \n",
       "171    -1.039602     -0.700585     -0.238230       -0.537601   \n",
       "137    -1.024432     -0.731969     -0.354934       -0.249362   \n",
       "15     -0.313735      0.149539     -0.760321       -0.510150   \n",
       "157    -0.906877     -0.692143     -0.352990        2.321258   \n",
       "\n",
       "     MDVP:Jitter(Abs)  MDVP:RAP  MDVP:PPQ  Jitter:DDP  MDVP:Shimmer  \\\n",
       "178         -0.672123 -0.581369 -0.560485   -0.581443     -0.705749   \n",
       "171         -0.392743 -0.536514 -0.546879   -0.535520     -0.818315   \n",
       "137         -0.113364 -0.244957 -0.131912   -0.243967      1.225079   \n",
       "15          -0.392743 -0.565350 -0.502661   -0.565423     -0.742750   \n",
       "157          2.959811  2.510423  1.249044    2.510302      1.033820   \n",
       "\n",
       "     MDVP:Shimmer(dB)  ...  MDVP:APQ  Shimmer:DDA       NHR       HNR  \\\n",
       "178         -0.689308  ... -0.619726    -0.677014 -0.479478  0.519697   \n",
       "171         -0.754158  ... -0.717257    -0.846283 -0.491718  0.958974   \n",
       "137          0.976850  ...  1.010606     1.308839  0.260061 -1.143867   \n",
       "15          -0.769124  ... -0.590870    -0.742018 -0.398410  0.685294   \n",
       "157          0.787287  ...  0.307688     1.032409  1.890187 -0.638612   \n",
       "\n",
       "         RPDE       DFA   spread1   spread2        D2       PPE  \n",
       "178 -0.883598  0.798224 -0.550574 -0.517415 -0.323720 -0.483962  \n",
       "171 -0.782484  0.693933 -0.561047 -0.078752 -0.470999 -0.483204  \n",
       "137  1.220770 -0.169468  0.952868  0.947541  0.742242  0.751637  \n",
       "15   0.659299 -1.073972  0.331183 -0.183522 -0.440262  0.320589  \n",
       "157  1.269749 -1.279736  2.051050  0.936787  1.482436  0.609947  \n",
       "\n",
       "[5 rows x 22 columns]"
      ]
     },
     "execution_count": 22,
     "metadata": {},
     "output_type": "execute_result"
    }
   ],
   "source": [
    "# checking first 5 rows of data\n",
    "X_test.head()"
   ]
  },
  {
   "cell_type": "code",
   "execution_count": 23,
   "id": "4a803b38",
   "metadata": {
    "execution": {
     "iopub.execute_input": "2024-04-04T21:06:28.450336Z",
     "iopub.status.busy": "2024-04-04T21:06:28.449765Z",
     "iopub.status.idle": "2024-04-04T21:06:28.459418Z",
     "shell.execute_reply": "2024-04-04T21:06:28.457320Z"
    },
    "papermill": {
     "duration": 0.038602,
     "end_time": "2024-04-04T21:06:28.464033",
     "exception": false,
     "start_time": "2024-04-04T21:06:28.425431",
     "status": "completed"
    },
    "tags": []
   },
   "outputs": [
    {
     "data": {
      "text/plain": [
       "(39, 22)"
      ]
     },
     "execution_count": 23,
     "metadata": {},
     "output_type": "execute_result"
    }
   ],
   "source": [
    "X_test.shape"
   ]
  },
  {
   "cell_type": "code",
   "execution_count": 24,
   "id": "1365d764",
   "metadata": {
    "execution": {
     "iopub.execute_input": "2024-04-04T21:06:28.515584Z",
     "iopub.status.busy": "2024-04-04T21:06:28.515042Z",
     "iopub.status.idle": "2024-04-04T21:06:28.521514Z",
     "shell.execute_reply": "2024-04-04T21:06:28.520446Z"
    },
    "papermill": {
     "duration": 0.034921,
     "end_time": "2024-04-04T21:06:28.524540",
     "exception": false,
     "start_time": "2024-04-04T21:06:28.489619",
     "status": "completed"
    },
    "tags": []
   },
   "outputs": [],
   "source": [
    "from sklearn.ensemble import RandomForestClassifier"
   ]
  },
  {
   "cell_type": "code",
   "execution_count": 25,
   "id": "f7c6882f",
   "metadata": {
    "execution": {
     "iopub.execute_input": "2024-04-04T21:06:28.577149Z",
     "iopub.status.busy": "2024-04-04T21:06:28.576607Z",
     "iopub.status.idle": "2024-04-04T21:06:28.584674Z",
     "shell.execute_reply": "2024-04-04T21:06:28.583278Z"
    },
    "papermill": {
     "duration": 0.039055,
     "end_time": "2024-04-04T21:06:28.587575",
     "exception": false,
     "start_time": "2024-04-04T21:06:28.548520",
     "status": "completed"
    },
    "tags": []
   },
   "outputs": [],
   "source": [
    "model = RandomForestClassifier(random_state=51, n_jobs=-1)"
   ]
  },
  {
   "cell_type": "code",
   "execution_count": 26,
   "id": "b806cc8e",
   "metadata": {
    "execution": {
     "iopub.execute_input": "2024-04-04T21:06:28.637525Z",
     "iopub.status.busy": "2024-04-04T21:06:28.636296Z",
     "iopub.status.idle": "2024-04-04T21:06:29.205083Z",
     "shell.execute_reply": "2024-04-04T21:06:29.203592Z"
    },
    "papermill": {
     "duration": 0.598687,
     "end_time": "2024-04-04T21:06:29.209296",
     "exception": false,
     "start_time": "2024-04-04T21:06:28.610609",
     "status": "completed"
    },
    "tags": []
   },
   "outputs": [
    {
     "data": {
      "text/html": [
       "<style>#sk-container-id-1 {color: black;background-color: white;}#sk-container-id-1 pre{padding: 0;}#sk-container-id-1 div.sk-toggleable {background-color: white;}#sk-container-id-1 label.sk-toggleable__label {cursor: pointer;display: block;width: 100%;margin-bottom: 0;padding: 0.3em;box-sizing: border-box;text-align: center;}#sk-container-id-1 label.sk-toggleable__label-arrow:before {content: \"▸\";float: left;margin-right: 0.25em;color: #696969;}#sk-container-id-1 label.sk-toggleable__label-arrow:hover:before {color: black;}#sk-container-id-1 div.sk-estimator:hover label.sk-toggleable__label-arrow:before {color: black;}#sk-container-id-1 div.sk-toggleable__content {max-height: 0;max-width: 0;overflow: hidden;text-align: left;background-color: #f0f8ff;}#sk-container-id-1 div.sk-toggleable__content pre {margin: 0.2em;color: black;border-radius: 0.25em;background-color: #f0f8ff;}#sk-container-id-1 input.sk-toggleable__control:checked~div.sk-toggleable__content {max-height: 200px;max-width: 100%;overflow: auto;}#sk-container-id-1 input.sk-toggleable__control:checked~label.sk-toggleable__label-arrow:before {content: \"▾\";}#sk-container-id-1 div.sk-estimator input.sk-toggleable__control:checked~label.sk-toggleable__label {background-color: #d4ebff;}#sk-container-id-1 div.sk-label input.sk-toggleable__control:checked~label.sk-toggleable__label {background-color: #d4ebff;}#sk-container-id-1 input.sk-hidden--visually {border: 0;clip: rect(1px 1px 1px 1px);clip: rect(1px, 1px, 1px, 1px);height: 1px;margin: -1px;overflow: hidden;padding: 0;position: absolute;width: 1px;}#sk-container-id-1 div.sk-estimator {font-family: monospace;background-color: #f0f8ff;border: 1px dotted black;border-radius: 0.25em;box-sizing: border-box;margin-bottom: 0.5em;}#sk-container-id-1 div.sk-estimator:hover {background-color: #d4ebff;}#sk-container-id-1 div.sk-parallel-item::after {content: \"\";width: 100%;border-bottom: 1px solid gray;flex-grow: 1;}#sk-container-id-1 div.sk-label:hover label.sk-toggleable__label {background-color: #d4ebff;}#sk-container-id-1 div.sk-serial::before {content: \"\";position: absolute;border-left: 1px solid gray;box-sizing: border-box;top: 0;bottom: 0;left: 50%;z-index: 0;}#sk-container-id-1 div.sk-serial {display: flex;flex-direction: column;align-items: center;background-color: white;padding-right: 0.2em;padding-left: 0.2em;position: relative;}#sk-container-id-1 div.sk-item {position: relative;z-index: 1;}#sk-container-id-1 div.sk-parallel {display: flex;align-items: stretch;justify-content: center;background-color: white;position: relative;}#sk-container-id-1 div.sk-item::before, #sk-container-id-1 div.sk-parallel-item::before {content: \"\";position: absolute;border-left: 1px solid gray;box-sizing: border-box;top: 0;bottom: 0;left: 50%;z-index: -1;}#sk-container-id-1 div.sk-parallel-item {display: flex;flex-direction: column;z-index: 1;position: relative;background-color: white;}#sk-container-id-1 div.sk-parallel-item:first-child::after {align-self: flex-end;width: 50%;}#sk-container-id-1 div.sk-parallel-item:last-child::after {align-self: flex-start;width: 50%;}#sk-container-id-1 div.sk-parallel-item:only-child::after {width: 0;}#sk-container-id-1 div.sk-dashed-wrapped {border: 1px dashed gray;margin: 0 0.4em 0.5em 0.4em;box-sizing: border-box;padding-bottom: 0.4em;background-color: white;}#sk-container-id-1 div.sk-label label {font-family: monospace;font-weight: bold;display: inline-block;line-height: 1.2em;}#sk-container-id-1 div.sk-label-container {text-align: center;}#sk-container-id-1 div.sk-container {/* jupyter's `normalize.less` sets `[hidden] { display: none; }` but bootstrap.min.css set `[hidden] { display: none !important; }` so we also need the `!important` here to be able to override the default hidden behavior on the sphinx rendered scikit-learn.org. See: https://github.com/scikit-learn/scikit-learn/issues/21755 */display: inline-block !important;position: relative;}#sk-container-id-1 div.sk-text-repr-fallback {display: none;}</style><div id=\"sk-container-id-1\" class=\"sk-top-container\"><div class=\"sk-text-repr-fallback\"><pre>RandomForestClassifier(n_jobs=-1, random_state=51)</pre><b>In a Jupyter environment, please rerun this cell to show the HTML representation or trust the notebook. <br />On GitHub, the HTML representation is unable to render, please try loading this page with nbviewer.org.</b></div><div class=\"sk-container\" hidden><div class=\"sk-item\"><div class=\"sk-estimator sk-toggleable\"><input class=\"sk-toggleable__control sk-hidden--visually\" id=\"sk-estimator-id-1\" type=\"checkbox\" checked><label for=\"sk-estimator-id-1\" class=\"sk-toggleable__label sk-toggleable__label-arrow\">RandomForestClassifier</label><div class=\"sk-toggleable__content\"><pre>RandomForestClassifier(n_jobs=-1, random_state=51)</pre></div></div></div></div></div>"
      ],
      "text/plain": [
       "RandomForestClassifier(n_jobs=-1, random_state=51)"
      ]
     },
     "execution_count": 26,
     "metadata": {},
     "output_type": "execute_result"
    }
   ],
   "source": [
    "model.fit(X_train, y_train)"
   ]
  },
  {
   "cell_type": "code",
   "execution_count": 27,
   "id": "a73efebd",
   "metadata": {
    "execution": {
     "iopub.execute_input": "2024-04-04T21:06:29.261857Z",
     "iopub.status.busy": "2024-04-04T21:06:29.261208Z",
     "iopub.status.idle": "2024-04-04T21:06:29.915435Z",
     "shell.execute_reply": "2024-04-04T21:06:29.913099Z"
    },
    "papermill": {
     "duration": 0.685544,
     "end_time": "2024-04-04T21:06:29.920238",
     "exception": false,
     "start_time": "2024-04-04T21:06:29.234694",
     "status": "completed"
    },
    "tags": []
   },
   "outputs": [],
   "source": [
    "model.fit(X_train, y_train)\n",
    "predictions = model.predict(X_test)"
   ]
  },
  {
   "cell_type": "code",
   "execution_count": 28,
   "id": "6c146324",
   "metadata": {
    "execution": {
     "iopub.execute_input": "2024-04-04T21:06:29.984515Z",
     "iopub.status.busy": "2024-04-04T21:06:29.982754Z",
     "iopub.status.idle": "2024-04-04T21:06:30.010042Z",
     "shell.execute_reply": "2024-04-04T21:06:30.007962Z"
    },
    "papermill": {
     "duration": 0.06661,
     "end_time": "2024-04-04T21:06:30.014241",
     "exception": false,
     "start_time": "2024-04-04T21:06:29.947631",
     "status": "completed"
    },
    "tags": []
   },
   "outputs": [],
   "source": [
    "# libraries to check performance\n",
    "from sklearn.metrics import accuracy_score, confusion_matrix, f1_score,  recall_score"
   ]
  },
  {
   "cell_type": "code",
   "execution_count": 29,
   "id": "1e3f5351",
   "metadata": {
    "execution": {
     "iopub.execute_input": "2024-04-04T21:06:30.071962Z",
     "iopub.status.busy": "2024-04-04T21:06:30.071219Z",
     "iopub.status.idle": "2024-04-04T21:06:30.093898Z",
     "shell.execute_reply": "2024-04-04T21:06:30.092500Z"
    },
    "papermill": {
     "duration": 0.056924,
     "end_time": "2024-04-04T21:06:30.098319",
     "exception": false,
     "start_time": "2024-04-04T21:06:30.041395",
     "status": "completed"
    },
    "tags": []
   },
   "outputs": [
    {
     "name": "stdout",
     "output_type": "stream",
     "text": [
      "The accuracy is 97.44 %\n",
      "The f1 score is 98.41 %\n",
      "The recall is 100.00 %\n"
     ]
    }
   ],
   "source": [
    "print(f\"The accuracy is {accuracy_score(y_test, predictions) * 100:.2f} %\")\n",
    "print(f\"The f1 score is {f1_score(y_test, predictions) * 100:.2f} %\") \n",
    "print(f\"The recall is {recall_score(y_test, predictions) * 100:.2f} %\")"
   ]
  },
  {
   "cell_type": "code",
   "execution_count": 30,
   "id": "928ac1f1",
   "metadata": {
    "execution": {
     "iopub.execute_input": "2024-04-04T21:06:30.153232Z",
     "iopub.status.busy": "2024-04-04T21:06:30.152404Z",
     "iopub.status.idle": "2024-04-04T21:06:30.520279Z",
     "shell.execute_reply": "2024-04-04T21:06:30.519091Z"
    },
    "papermill": {
     "duration": 0.398765,
     "end_time": "2024-04-04T21:06:30.524347",
     "exception": false,
     "start_time": "2024-04-04T21:06:30.125582",
     "status": "completed"
    },
    "tags": []
   },
   "outputs": [
    {
     "data": {
      "image/png": "[encoded data removed]",
      "text/plain": [
       "<Figure size 640x480 with 1 Axes>"
      ]
     },
     "metadata": {},
     "output_type": "display_data"
    }
   ],
   "source": [
    "sns.heatmap(confusion_matrix(y_test, predictions), annot=True, cbar=False);\n",
    "# TN   FP\n",
    "# FN*   TP - Recall"
   ]
  },
  {
   "cell_type": "code",
   "execution_count": 31,
   "id": "25e2f919",
   "metadata": {
    "execution": {
     "iopub.execute_input": "2024-04-04T21:06:30.581359Z",
     "iopub.status.busy": "2024-04-04T21:06:30.580660Z",
     "iopub.status.idle": "2024-04-04T21:06:30.965086Z",
     "shell.execute_reply": "2024-04-04T21:06:30.963926Z"
    },
    "papermill": {
     "duration": 0.417001,
     "end_time": "2024-04-04T21:06:30.969964",
     "exception": false,
     "start_time": "2024-04-04T21:06:30.552963",
     "status": "completed"
    },
    "tags": []
   },
   "outputs": [],
   "source": [
    "from xgboost import XGBClassifier"
   ]
  },
  {
   "cell_type": "code",
   "execution_count": 32,
   "id": "fab0ccb6",
   "metadata": {
    "execution": {
     "iopub.execute_input": "2024-04-04T21:06:31.027010Z",
     "iopub.status.busy": "2024-04-04T21:06:31.026066Z",
     "iopub.status.idle": "2024-04-04T21:06:31.033561Z",
     "shell.execute_reply": "2024-04-04T21:06:31.031825Z"
    },
    "papermill": {
     "duration": 0.043318,
     "end_time": "2024-04-04T21:06:31.037528",
     "exception": false,
     "start_time": "2024-04-04T21:06:30.994210",
     "status": "completed"
    },
    "tags": []
   },
   "outputs": [],
   "source": [
    "xgb = XGBClassifier(random_state=51)"
   ]
  },
  {
   "cell_type": "code",
   "execution_count": 33,
   "id": "670129ce",
   "metadata": {
    "execution": {
     "iopub.execute_input": "2024-04-04T21:06:31.093055Z",
     "iopub.status.busy": "2024-04-04T21:06:31.092495Z",
     "iopub.status.idle": "2024-04-04T21:06:31.306459Z",
     "shell.execute_reply": "2024-04-04T21:06:31.304208Z"
    },
    "papermill": {
     "duration": 0.242573,
     "end_time": "2024-04-04T21:06:31.310152",
     "exception": false,
     "start_time": "2024-04-04T21:06:31.067579",
     "status": "completed"
    },
    "tags": []
   },
   "outputs": [
    {
     "data": {
      "text/html": [
       "<style>#sk-container-id-2 {color: black;background-color: white;}#sk-container-id-2 pre{padding: 0;}#sk-container-id-2 div.sk-toggleable {background-color: white;}#sk-container-id-2 label.sk-toggleable__label {cursor: pointer;display: block;width: 100%;margin-bottom: 0;padding: 0.3em;box-sizing: border-box;text-align: center;}#sk-container-id-2 label.sk-toggleable__label-arrow:before {content: \"▸\";float: left;margin-right: 0.25em;color: #696969;}#sk-container-id-2 label.sk-toggleable__label-arrow:hover:before {color: black;}#sk-container-id-2 div.sk-estimator:hover label.sk-toggleable__label-arrow:before {color: black;}#sk-container-id-2 div.sk-toggleable__content {max-height: 0;max-width: 0;overflow: hidden;text-align: left;background-color: #f0f8ff;}#sk-container-id-2 div.sk-toggleable__content pre {margin: 0.2em;color: black;border-radius: 0.25em;background-color: #f0f8ff;}#sk-container-id-2 input.sk-toggleable__control:checked~div.sk-toggleable__content {max-height: 200px;max-width: 100%;overflow: auto;}#sk-container-id-2 input.sk-toggleable__control:checked~label.sk-toggleable__label-arrow:before {content: \"▾\";}#sk-container-id-2 div.sk-estimator input.sk-toggleable__control:checked~label.sk-toggleable__label {background-color: #d4ebff;}#sk-container-id-2 div.sk-label input.sk-toggleable__control:checked~label.sk-toggleable__label {background-color: #d4ebff;}#sk-container-id-2 input.sk-hidden--visually {border: 0;clip: rect(1px 1px 1px 1px);clip: rect(1px, 1px, 1px, 1px);height: 1px;margin: -1px;overflow: hidden;padding: 0;position: absolute;width: 1px;}#sk-container-id-2 div.sk-estimator {font-family: monospace;background-color: #f0f8ff;border: 1px dotted black;border-radius: 0.25em;box-sizing: border-box;margin-bottom: 0.5em;}#sk-container-id-2 div.sk-estimator:hover {background-color: #d4ebff;}#sk-container-id-2 div.sk-parallel-item::after {content: \"\";width: 100%;border-bottom: 1px solid gray;flex-grow: 1;}#sk-container-id-2 div.sk-label:hover label.sk-toggleable__label {background-color: #d4ebff;}#sk-container-id-2 div.sk-serial::before {content: \"\";position: absolute;border-left: 1px solid gray;box-sizing: border-box;top: 0;bottom: 0;left: 50%;z-index: 0;}#sk-container-id-2 div.sk-serial {display: flex;flex-direction: column;align-items: center;background-color: white;padding-right: 0.2em;padding-left: 0.2em;position: relative;}#sk-container-id-2 div.sk-item {position: relative;z-index: 1;}#sk-container-id-2 div.sk-parallel {display: flex;align-items: stretch;justify-content: center;background-color: white;position: relative;}#sk-container-id-2 div.sk-item::before, #sk-container-id-2 div.sk-parallel-item::before {content: \"\";position: absolute;border-left: 1px solid gray;box-sizing: border-box;top: 0;bottom: 0;left: 50%;z-index: -1;}#sk-container-id-2 div.sk-parallel-item {display: flex;flex-direction: column;z-index: 1;position: relative;background-color: white;}#sk-container-id-2 div.sk-parallel-item:first-child::after {align-self: flex-end;width: 50%;}#sk-container-id-2 div.sk-parallel-item:last-child::after {align-self: flex-start;width: 50%;}#sk-container-id-2 div.sk-parallel-item:only-child::after {width: 0;}#sk-container-id-2 div.sk-dashed-wrapped {border: 1px dashed gray;margin: 0 0.4em 0.5em 0.4em;box-sizing: border-box;padding-bottom: 0.4em;background-color: white;}#sk-container-id-2 div.sk-label label {font-family: monospace;font-weight: bold;display: inline-block;line-height: 1.2em;}#sk-container-id-2 div.sk-label-container {text-align: center;}#sk-container-id-2 div.sk-container {/* jupyter's `normalize.less` sets `[hidden] { display: none; }` but bootstrap.min.css set `[hidden] { display: none !important; }` so we also need the `!important` here to be able to override the default hidden behavior on the sphinx rendered scikit-learn.org. See: https://github.com/scikit-learn/scikit-learn/issues/21755 */display: inline-block !important;position: relative;}#sk-container-id-2 div.sk-text-repr-fallback {display: none;}</style><div id=\"sk-container-id-2\" class=\"sk-top-container\"><div class=\"sk-text-repr-fallback\"><pre>XGBClassifier(base_score=None, booster=None, callbacks=None,\n",
       "              colsample_bylevel=None, colsample_bynode=None,\n",
       "              colsample_bytree=None, device=None, early_stopping_rounds=None,\n",
       "              enable_categorical=False, eval_metric=None, feature_types=None,\n",
       "              gamma=None, grow_policy=None, importance_type=None,\n",
       "              interaction_constraints=None, learning_rate=None, max_bin=None,\n",
       "              max_cat_threshold=None, max_cat_to_onehot=None,\n",
       "              max_delta_step=None, max_depth=None, max_leaves=None,\n",
       "              min_child_weight=None, missing=nan, monotone_constraints=None,\n",
       "              multi_strategy=None, n_estimators=None, n_jobs=None,\n",
       "              num_parallel_tree=None, random_state=51, ...)</pre><b>In a Jupyter environment, please rerun this cell to show the HTML representation or trust the notebook. <br />On GitHub, the HTML representation is unable to render, please try loading this page with nbviewer.org.</b></div><div class=\"sk-container\" hidden><div class=\"sk-item\"><div class=\"sk-estimator sk-toggleable\"><input class=\"sk-toggleable__control sk-hidden--visually\" id=\"sk-estimator-id-2\" type=\"checkbox\" checked><label for=\"sk-estimator-id-2\" class=\"sk-toggleable__label sk-toggleable__label-arrow\">XGBClassifier</label><div class=\"sk-toggleable__content\"><pre>XGBClassifier(base_score=None, booster=None, callbacks=None,\n",
       "              colsample_bylevel=None, colsample_bynode=None,\n",
       "              colsample_bytree=None, device=None, early_stopping_rounds=None,\n",
       "              enable_categorical=False, eval_metric=None, feature_types=None,\n",
       "              gamma=None, grow_policy=None, importance_type=None,\n",
       "              interaction_constraints=None, learning_rate=None, max_bin=None,\n",
       "              max_cat_threshold=None, max_cat_to_onehot=None,\n",
       "              max_delta_step=None, max_depth=None, max_leaves=None,\n",
       "              min_child_weight=None, missing=nan, monotone_constraints=None,\n",
       "              multi_strategy=None, n_estimators=None, n_jobs=None,\n",
       "              num_parallel_tree=None, random_state=51, ...)</pre></div></div></div></div></div>"
      ],
      "text/plain": [
       "XGBClassifier(base_score=None, booster=None, callbacks=None,\n",
       "              colsample_bylevel=None, colsample_bynode=None,\n",
       "              colsample_bytree=None, device=None, early_stopping_rounds=None,\n",
       "              enable_categorical=False, eval_metric=None, feature_types=None,\n",
       "              gamma=None, grow_policy=None, importance_type=None,\n",
       "              interaction_constraints=None, learning_rate=None, max_bin=None,\n",
       "              max_cat_threshold=None, max_cat_to_onehot=None,\n",
       "              max_delta_step=None, max_depth=None, max_leaves=None,\n",
       "              min_child_weight=None, missing=nan, monotone_constraints=None,\n",
       "              multi_strategy=None, n_estimators=None, n_jobs=None,\n",
       "              num_parallel_tree=None, random_state=51, ...)"
      ]
     },
     "execution_count": 33,
     "metadata": {},
     "output_type": "execute_result"
    }
   ],
   "source": [
    "xgb.fit(X_train, y_train)"
   ]
  },
  {
   "cell_type": "code",
   "execution_count": 34,
   "id": "30452e14",
   "metadata": {
    "execution": {
     "iopub.execute_input": "2024-04-04T21:06:31.369107Z",
     "iopub.status.busy": "2024-04-04T21:06:31.367384Z",
     "iopub.status.idle": "2024-04-04T21:06:31.389122Z",
     "shell.execute_reply": "2024-04-04T21:06:31.387187Z"
    },
    "papermill": {
     "duration": 0.05387,
     "end_time": "2024-04-04T21:06:31.395353",
     "exception": false,
     "start_time": "2024-04-04T21:06:31.341483",
     "status": "completed"
    },
    "tags": []
   },
   "outputs": [],
   "source": [
    "predictions = xgb.predict(X_test)"
   ]
  },
  {
   "cell_type": "code",
   "execution_count": 35,
   "id": "a1724a56",
   "metadata": {
    "execution": {
     "iopub.execute_input": "2024-04-04T21:06:31.455176Z",
     "iopub.status.busy": "2024-04-04T21:06:31.454573Z",
     "iopub.status.idle": "2024-04-04T21:06:31.479597Z",
     "shell.execute_reply": "2024-04-04T21:06:31.477283Z"
    },
    "papermill": {
     "duration": 0.05725,
     "end_time": "2024-04-04T21:06:31.483454",
     "exception": false,
     "start_time": "2024-04-04T21:06:31.426204",
     "status": "completed"
    },
    "tags": []
   },
   "outputs": [
    {
     "name": "stdout",
     "output_type": "stream",
     "text": [
      "The accuracy is 89.74 %\n",
      "The f1 score is 93.94 %\n",
      "The recall is 100.00 %\n"
     ]
    }
   ],
   "source": [
    "print(f\"The accuracy is {accuracy_score(y_test, predictions) * 100:.2f} %\")\n",
    "print(f\"The f1 score is {f1_score(y_test, predictions) * 100:.2f} %\") \n",
    "print(f\"The recall is {recall_score(y_test, predictions) * 100:.2f} %\")"
   ]
  },
  {
   "cell_type": "code",
   "execution_count": 36,
   "id": "a6bd4d65",
   "metadata": {
    "execution": {
     "iopub.execute_input": "2024-04-04T21:06:31.539806Z",
     "iopub.status.busy": "2024-04-04T21:06:31.539296Z",
     "iopub.status.idle": "2024-04-04T21:06:31.857659Z",
     "shell.execute_reply": "2024-04-04T21:06:31.856089Z"
    },
    "papermill": {
     "duration": 0.353714,
     "end_time": "2024-04-04T21:06:31.860890",
     "exception": false,
     "start_time": "2024-04-04T21:06:31.507176",
     "status": "completed"
    },
    "tags": []
   },
   "outputs": [
    {
     "data": {
      "image/png": "[encoded data removed]",
      "text/plain": [
       "<Figure size 640x480 with 1 Axes>"
      ]
     },
     "metadata": {},
     "output_type": "display_data"
    }
   ],
   "source": [
    "sns.heatmap(confusion_matrix(y_test, predictions), annot=True, cbar=False);\n",
    "# TN   FP\n",
    "# FN*   TP - Recall"
   ]
  },
  {
   "cell_type": "code",
   "execution_count": 37,
   "id": "58e07648",
   "metadata": {
    "execution": {
     "iopub.execute_input": "2024-04-04T21:06:31.913913Z",
     "iopub.status.busy": "2024-04-04T21:06:31.913030Z",
     "iopub.status.idle": "2024-04-04T21:06:31.921895Z",
     "shell.execute_reply": "2024-04-04T21:06:31.919911Z"
    },
    "papermill": {
     "duration": 0.041213,
     "end_time": "2024-04-04T21:06:31.926516",
     "exception": false,
     "start_time": "2024-04-04T21:06:31.885303",
     "status": "completed"
    },
    "tags": []
   },
   "outputs": [],
   "source": [
    "from sklearn.svm import SVC"
   ]
  },
  {
   "cell_type": "code",
   "execution_count": 38,
   "id": "360d0d1c",
   "metadata": {
    "execution": {
     "iopub.execute_input": "2024-04-04T21:06:31.981990Z",
     "iopub.status.busy": "2024-04-04T21:06:31.981350Z",
     "iopub.status.idle": "2024-04-04T21:06:31.988403Z",
     "shell.execute_reply": "2024-04-04T21:06:31.986212Z"
    },
    "papermill": {
     "duration": 0.038552,
     "end_time": "2024-04-04T21:06:31.991725",
     "exception": false,
     "start_time": "2024-04-04T21:06:31.953173",
     "status": "completed"
    },
    "tags": []
   },
   "outputs": [],
   "source": [
    "svm = SVC()"
   ]
  },
  {
   "cell_type": "code",
   "execution_count": 39,
   "id": "7d645473",
   "metadata": {
    "execution": {
     "iopub.execute_input": "2024-04-04T21:06:32.051658Z",
     "iopub.status.busy": "2024-04-04T21:06:32.051172Z",
     "iopub.status.idle": "2024-04-04T21:06:32.068979Z",
     "shell.execute_reply": "2024-04-04T21:06:32.067758Z"
    },
    "papermill": {
     "duration": 0.052783,
     "end_time": "2024-04-04T21:06:32.073134",
     "exception": false,
     "start_time": "2024-04-04T21:06:32.020351",
     "status": "completed"
    },
    "tags": []
   },
   "outputs": [],
   "source": [
    "svm.fit(X_train, y_train)\n",
    "predictions = svm.predict(X_test)"
   ]
  },
  {
   "cell_type": "code",
   "execution_count": 40,
   "id": "02cf681f",
   "metadata": {
    "execution": {
     "iopub.execute_input": "2024-04-04T21:06:32.128667Z",
     "iopub.status.busy": "2024-04-04T21:06:32.126308Z",
     "iopub.status.idle": "2024-04-04T21:06:32.147492Z",
     "shell.execute_reply": "2024-04-04T21:06:32.145364Z"
    },
    "papermill": {
     "duration": 0.051427,
     "end_time": "2024-04-04T21:06:32.150693",
     "exception": false,
     "start_time": "2024-04-04T21:06:32.099266",
     "status": "completed"
    },
    "tags": []
   },
   "outputs": [
    {
     "name": "stdout",
     "output_type": "stream",
     "text": [
      "The accuracy is 89.74 %\n",
      "The f1 score is 93.33 %\n",
      "The recall is 90.32 %\n"
     ]
    }
   ],
   "source": [
    "print(f\"The accuracy is {accuracy_score(y_test, predictions) * 100:.2f} %\")\n",
    "print(f\"The f1 score is {f1_score(y_test, predictions) * 100:.2f} %\") \n",
    "print(f\"The recall is {recall_score(y_test, predictions) * 100:.2f} %\")"
   ]
  },
  {
   "cell_type": "code",
   "execution_count": 41,
   "id": "20da2c7a",
   "metadata": {
    "execution": {
     "iopub.execute_input": "2024-04-04T21:06:32.209223Z",
     "iopub.status.busy": "2024-04-04T21:06:32.208645Z",
     "iopub.status.idle": "2024-04-04T21:06:32.471708Z",
     "shell.execute_reply": "2024-04-04T21:06:32.469223Z"
    },
    "papermill": {
     "duration": 0.293455,
     "end_time": "2024-04-04T21:06:32.475610",
     "exception": false,
     "start_time": "2024-04-04T21:06:32.182155",
     "status": "completed"
    },
    "tags": []
   },
   "outputs": [
    {
     "data": {
      "image/png": "[encoded data removed]",
      "text/plain": [
       "<Figure size 640x480 with 1 Axes>"
      ]
     },
     "metadata": {},
     "output_type": "display_data"
    }
   ],
   "source": [
    "sns.heatmap(confusion_matrix(y_test, predictions), annot=True, cbar=False);\n",
    "# TN   FP\n",
    "# FN*   TP - Recall"
   ]
  },
  {
   "cell_type": "code",
   "execution_count": 42,
   "id": "74e13a04",
   "metadata": {
    "execution": {
     "iopub.execute_input": "2024-04-04T21:06:32.532358Z",
     "iopub.status.busy": "2024-04-04T21:06:32.531913Z",
     "iopub.status.idle": "2024-04-04T21:06:32.568167Z",
     "shell.execute_reply": "2024-04-04T21:06:32.566947Z"
    },
    "papermill": {
     "duration": 0.067191,
     "end_time": "2024-04-04T21:06:32.571341",
     "exception": false,
     "start_time": "2024-04-04T21:06:32.504150",
     "status": "completed"
    },
    "tags": []
   },
   "outputs": [],
   "source": [
    "importance_df = pd.DataFrame({\n",
    "    \"Feature\" : features,\n",
    "    \"Importance\" : model.feature_importances_}).sort_values(\"Importance\", ascending=False)"
   ]
  },
  {
   "cell_type": "code",
   "execution_count": 43,
   "id": "bf9781e4",
   "metadata": {
    "execution": {
     "iopub.execute_input": "2024-04-04T21:06:32.624935Z",
     "iopub.status.busy": "2024-04-04T21:06:32.623547Z",
     "iopub.status.idle": "2024-04-04T21:06:33.221825Z",
     "shell.execute_reply": "2024-04-04T21:06:33.220479Z"
    },
    "papermill": {
     "duration": 0.62921,
     "end_time": "2024-04-04T21:06:33.224624",
     "exception": false,
     "start_time": "2024-04-04T21:06:32.595414",
     "status": "completed"
    },
    "tags": []
   },
   "outputs": [
    {
     "data": {
      "image/png": "[encoded data removed]",
      "text/plain": [
       "<Figure size 1000x600 with 1 Axes>"
      ]
     },
     "metadata": {},
     "output_type": "display_data"
    }
   ],
   "source": [
    "plt.figure(figsize=[10,6])\n",
    "plt.title(\"Most Important Features\")\n",
    "sns.barplot(data=importance_df.head(10), y=\"Feature\", x=\"Importance\");"
   ]
  },
  {
   "cell_type": "code",
   "execution_count": 44,
   "id": "008103a6",
   "metadata": {
    "execution": {
     "iopub.execute_input": "2024-04-04T21:06:33.272218Z",
     "iopub.status.busy": "2024-04-04T21:06:33.271685Z",
     "iopub.status.idle": "2024-04-04T21:07:06.785835Z",
     "shell.execute_reply": "2024-04-04T21:07:06.784033Z"
    },
    "papermill": {
     "duration": 33.542354,
     "end_time": "2024-04-04T21:07:06.789654",
     "exception": false,
     "start_time": "2024-04-04T21:06:33.247300",
     "status": "completed"
    },
    "tags": []
   },
   "outputs": [
    {
     "name": "stdout",
     "output_type": "stream",
     "text": [
      "Fitting 5 folds for each of 27 candidates, totalling 135 fits\n"
     ]
    }
   ],
   "source": [
    "from sklearn.model_selection import GridSearchCV\n",
    "\n",
    "# Define the parameter grid\n",
    "param_grid = {\n",
    "    'n_estimators': [100, 200, 300],\n",
    "    'max_depth': [None, 10, 20],\n",
    "    'min_samples_split': [2, 5, 10]\n",
    "}\n",
    "\n",
    "# Instantiate the grid search model\n",
    "grid_search = GridSearchCV(estimator=RandomForestClassifier(random_state=51), \n",
    "                           param_grid=param_grid, \n",
    "                           cv=5, n_jobs=-1, verbose=2)\n",
    "\n",
    "grid_search.fit(X_train, y_train)\n",
    "best_model = grid_search.best_estimator_\n"
   ]
  },
  {
   "cell_type": "code",
   "execution_count": 45,
   "id": "6999fcbf",
   "metadata": {
    "execution": {
     "iopub.execute_input": "2024-04-04T21:07:06.847550Z",
     "iopub.status.busy": "2024-04-04T21:07:06.846176Z",
     "iopub.status.idle": "2024-04-04T21:07:09.704170Z",
     "shell.execute_reply": "2024-04-04T21:07:09.702511Z"
    },
    "papermill": {
     "duration": 2.889232,
     "end_time": "2024-04-04T21:07:09.707313",
     "exception": false,
     "start_time": "2024-04-04T21:07:06.818081",
     "status": "completed"
    },
    "tags": []
   },
   "outputs": [
    {
     "name": "stdout",
     "output_type": "stream",
     "text": [
      "CV Scores: [0.91489362 0.93617021 0.97826087 0.97826087 1.        ]\n",
      "CV Average Score: 0.9615171137835337\n"
     ]
    }
   ],
   "source": [
    "from sklearn.model_selection import cross_val_score\n",
    "\n",
    "# Perform cross-validation\n",
    "cv_scores = cross_val_score(best_model, X_train, y_train, cv=5)\n",
    "\n",
    "print(f\"CV Scores: {cv_scores}\")\n",
    "print(f\"CV Average Score: {np.mean(cv_scores)}\")"
   ]
  },
  {
   "cell_type": "code",
   "execution_count": 46,
   "id": "99a33240",
   "metadata": {
    "execution": {
     "iopub.execute_input": "2024-04-04T21:07:09.756562Z",
     "iopub.status.busy": "2024-04-04T21:07:09.756048Z",
     "iopub.status.idle": "2024-04-04T21:07:09.785901Z",
     "shell.execute_reply": "2024-04-04T21:07:09.783619Z"
    },
    "papermill": {
     "duration": 0.058985,
     "end_time": "2024-04-04T21:07:09.789027",
     "exception": false,
     "start_time": "2024-04-04T21:07:09.730042",
     "status": "completed"
    },
    "tags": []
   },
   "outputs": [
    {
     "name": "stdout",
     "output_type": "stream",
     "text": [
      "Feature ranking:\n",
      "1. feature 21 (0.12577861287885664)\n",
      "2. feature 18 (0.12007905901109303)\n",
      "3. feature 19 (0.074399785738742)\n",
      "4. feature 12 (0.06802774187509454)\n",
      "5. feature 7 (0.06054379147273235)\n",
      "6. feature 0 (0.05664233834106451)\n",
      "7. feature 1 (0.05334557396507193)\n",
      "8. feature 5 (0.050126452588133086)\n",
      "9. feature 11 (0.049461679745973576)\n",
      "10. feature 4 (0.04039762411310826)\n",
      "11. feature 9 (0.031422145278651635)\n",
      "12. feature 2 (0.030490738289034258)\n",
      "13. feature 20 (0.029442417168978927)\n",
      "14. feature 3 (0.029003412028882156)\n",
      "15. feature 8 (0.026664448975599)\n",
      "16. feature 6 (0.02644271259558341)\n",
      "17. feature 17 (0.024662973487456264)\n",
      "18. feature 10 (0.02322876672629719)\n",
      "19. feature 16 (0.022023593271307828)\n",
      "20. feature 13 (0.020931965891896765)\n",
      "21. feature 15 (0.019672915475368518)\n",
      "22. feature 14 (0.01721125108107408)\n"
     ]
    }
   ],
   "source": [
    "importances = best_model.feature_importances_\n",
    "indices = np.argsort(importances)[::-1]\n",
    "\n",
    "# Print the feature ranking\n",
    "print(\"Feature ranking:\")\n",
    "for f in range(X_train.shape[1]):\n",
    "    print(f\"{f + 1}. feature {indices[f]} ({importances[indices[f]]})\")"
   ]
  },
  {
   "cell_type": "code",
   "execution_count": 47,
   "id": "1e6927ef",
   "metadata": {
    "execution": {
     "iopub.execute_input": "2024-04-04T21:07:09.842977Z",
     "iopub.status.busy": "2024-04-04T21:07:09.842326Z",
     "iopub.status.idle": "2024-04-04T21:07:09.883532Z",
     "shell.execute_reply": "2024-04-04T21:07:09.881891Z"
    },
    "papermill": {
     "duration": 0.070023,
     "end_time": "2024-04-04T21:07:09.886921",
     "exception": false,
     "start_time": "2024-04-04T21:07:09.816898",
     "status": "completed"
    },
    "tags": []
   },
   "outputs": [
    {
     "name": "stdout",
     "output_type": "stream",
     "text": [
      "ROC-AUC Score: 0.9637096774193549\n"
     ]
    }
   ],
   "source": [
    "from sklearn.metrics import roc_auc_score\n",
    "\n",
    "# Predict probabilities\n",
    "probs = best_model.predict_proba(X_test)[:, 1]\n",
    "\n",
    "# Calculate the ROC-AUC score\n",
    "roc_auc = roc_auc_score(y_test, probs)\n",
    "print(f\"ROC-AUC Score: {roc_auc}\")"
   ]
  },
  {
   "cell_type": "code",
   "execution_count": 48,
   "id": "dc61b33d",
   "metadata": {
    "execution": {
     "iopub.execute_input": "2024-04-04T21:07:09.936333Z",
     "iopub.status.busy": "2024-04-04T21:07:09.935508Z",
     "iopub.status.idle": "2024-04-04T21:07:09.941722Z",
     "shell.execute_reply": "2024-04-04T21:07:09.940554Z"
    },
    "papermill": {
     "duration": 0.033136,
     "end_time": "2024-04-04T21:07:09.944574",
     "exception": false,
     "start_time": "2024-04-04T21:07:09.911438",
     "status": "completed"
    },
    "tags": []
   },
   "outputs": [
    {
     "name": "stdout",
     "output_type": "stream",
     "text": [
      "/kaggle/working\n"
     ]
    }
   ],
   "source": [
    "import os\n",
    "print(os.getcwd())"
   ]
  },
  {
   "cell_type": "code",
   "execution_count": 49,
   "id": "0394c1fe",
   "metadata": {
    "execution": {
     "iopub.execute_input": "2024-04-04T21:07:09.992314Z",
     "iopub.status.busy": "2024-04-04T21:07:09.991867Z",
     "iopub.status.idle": "2024-04-04T21:07:09.998474Z",
     "shell.execute_reply": "2024-04-04T21:07:09.997114Z"
    },
    "papermill": {
     "duration": 0.034011,
     "end_time": "2024-04-04T21:07:10.001647",
     "exception": false,
     "start_time": "2024-04-04T21:07:09.967636",
     "status": "completed"
    },
    "tags": []
   },
   "outputs": [
    {
     "name": "stdout",
     "output_type": "stream",
     "text": [
      "['scaler_joblib']\n"
     ]
    }
   ],
   "source": [
    "print(os.listdir('tools'))"
   ]
  },
  {
   "cell_type": "code",
   "execution_count": 50,
   "id": "346093d3",
   "metadata": {
    "execution": {
     "iopub.execute_input": "2024-04-04T21:07:10.049831Z",
     "iopub.status.busy": "2024-04-04T21:07:10.049351Z",
     "iopub.status.idle": "2024-04-04T21:07:10.140298Z",
     "shell.execute_reply": "2024-04-04T21:07:10.138863Z"
    },
    "papermill": {
     "duration": 0.118387,
     "end_time": "2024-04-04T21:07:10.143460",
     "exception": false,
     "start_time": "2024-04-04T21:07:10.025073",
     "status": "completed"
    },
    "tags": []
   },
   "outputs": [
    {
     "data": {
      "text/plain": [
       "['tools/model_joblib']"
      ]
     },
     "execution_count": 50,
     "metadata": {},
     "output_type": "execute_result"
    }
   ],
   "source": [
    "joblib.dump(model, \"tools/model_joblib\")"
   ]
  },
  {
   "cell_type": "code",
   "execution_count": 51,
   "id": "77663bb1",
   "metadata": {
    "execution": {
     "iopub.execute_input": "2024-04-04T21:07:10.196195Z",
     "iopub.status.busy": "2024-04-04T21:07:10.195691Z",
     "iopub.status.idle": "2024-04-04T21:07:10.322155Z",
     "shell.execute_reply": "2024-04-04T21:07:10.320644Z"
    },
    "papermill": {
     "duration": 0.158421,
     "end_time": "2024-04-04T21:07:10.327309",
     "exception": false,
     "start_time": "2024-04-04T21:07:10.168888",
     "status": "completed"
    },
    "tags": []
   },
   "outputs": [
    {
     "name": "stdout",
     "output_type": "stream",
     "text": [
      "The model predicts the sample as having Parkinson's disease.\n"
     ]
    },
    {
     "name": "stderr",
     "output_type": "stream",
     "text": [
      "/opt/conda/lib/python3.10/site-packages/sklearn/base.py:439: UserWarning: X does not have valid feature names, but RandomForestClassifier was fitted with feature names\n",
      "  warnings.warn(\n"
     ]
    }
   ],
   "source": [
    "import pandas as pd  # for data manipulation\n",
    "import numpy as np  # for numerical analysis\n",
    "import joblib\n",
    "from sklearn.preprocessing import StandardScaler\n",
    "\n",
    "# Assuming your scaler and model have been saved and now you are loading them\n",
    "scaler = joblib.load(\"tools/scaler_joblib\")\n",
    "model = joblib.load(\"tools/model_joblib\")\n",
    "\n",
    "# New sample to predict\n",
    "new_sample = {\n",
    "    'MDVP:Fo(Hz)': 110, 'MDVP:Fhi(Hz)': 140, 'MDVP:Flo(Hz)': 100,\n",
    "    'MDVP:Jitter(%)': 0.005, 'MDVP:Jitter(Abs)': 0.00006,\n",
    "    'MDVP:RAP': 0.0025, 'MDVP:PPQ': 0.0028, 'Jitter:DDP': 0.0075,\n",
    "    'MDVP:Shimmer': 0.035, 'MDVP:Shimmer(dB)': 0.3,\n",
    "    'Shimmer:APQ3': 0.015, 'Shimmer:APQ5': 0.017,\n",
    "    'MDVP:APQ': 0.025, 'Shimmer:DDA': 0.045,\n",
    "    'NHR': 0.015, 'HNR': 22,\n",
    "    'RPDE': 0.5, 'DFA': 0.7, 'spread1': -5.2, 'spread2': 0.3,\n",
    "    'D2': 2.5, 'PPE': 0.25\n",
    "}\n",
    "\n",
    "# Preparing the new sample for prediction\n",
    "new_sample_df = pd.DataFrame([new_sample])\n",
    "new_sample_scaled = scaler.transform(new_sample_df)  # Scaling\n",
    "\n",
    "# Making predictions with the model\n",
    "new_prediction = model.predict(new_sample_scaled)\n",
    "\n",
    "# Outputting the prediction result\n",
    "prediction_text = \"The model predicts the sample as having Parkinson's disease.\" if new_prediction[0] == 1 else \"The model predicts the sample as not having Parkinson's disease.\"\n",
    "print(prediction_text)"
   ]
  },
  {
   "cell_type": "code",
   "execution_count": 52,
   "id": "9b3811d4",
   "metadata": {
    "execution": {
     "iopub.execute_input": "2024-04-04T21:07:10.378042Z",
     "iopub.status.busy": "2024-04-04T21:07:10.377507Z",
     "iopub.status.idle": "2024-04-04T21:07:10.468235Z",
     "shell.execute_reply": "2024-04-04T21:07:10.466958Z"
    },
    "papermill": {
     "duration": 0.119335,
     "end_time": "2024-04-04T21:07:10.471279",
     "exception": false,
     "start_time": "2024-04-04T21:07:10.351944",
     "status": "completed"
    },
    "tags": []
   },
   "outputs": [
    {
     "data": {
      "text/plain": [
       "['tools/model_joblib']"
      ]
     },
     "execution_count": 52,
     "metadata": {},
     "output_type": "execute_result"
    }
   ],
   "source": [
    "joblib.dump(model, \"tools/model_joblib\")"
   ]
  }
 ],
 "metadata": {
  "kaggle": {
   "accelerator": "none",
   "dataSources": [
    {
     "datasetId": 4733795,
     "sourceId": 8031226,
     "sourceType": "datasetVersion"
    }
   ],
   "dockerImageVersionId": 30673,
   "isGpuEnabled": false,
   "isInternetEnabled": true,
   "language": "python",
   "sourceType": "notebook"
  },
  "kernelspec": {
   "display_name": "Python 3",
   "language": "python",
   "name": "python3"
  },
  "language_info": {
   "codemirror_mode": {
    "name": "ipython",
    "version": 3
   },
   "file_extension": ".py",
   "mimetype": "text/x-python",
   "name": "python",
   "nbconvert_exporter": "python",
   "pygments_lexer": "ipython3",
   "version": "3.10.13"
  },
  "papermill": {
   "default_parameters": {},
   "duration": 55.343399,
   "end_time": "2024-04-04T21:07:13.120593",
   "environment_variables": {},
   "exception": null,
   "input_path": "__notebook__.ipynb",
   "output_path": "__notebook__.ipynb",
   "parameters": {},
   "start_time": "2024-04-04T21:06:17.777194",
   "version": "2.5.0"
  }
 },
 "nbformat": 4,
 "nbformat_minor": 5
}
